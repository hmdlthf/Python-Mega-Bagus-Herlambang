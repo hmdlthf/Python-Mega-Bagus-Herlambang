{
 "cells": [
  {
   "cell_type": "markdown",
   "id": "3e572061",
   "metadata": {},
   "source": [
    "## Mendefinisikan Class"
   ]
  },
  {
   "cell_type": "raw",
   "id": "4ad8a2c8",
   "metadata": {},
   "source": [
    "class NamaClass:\n",
    "\n",
    "                def_init_(self,nama_attribute1, nama_attribute2):\n",
    "                self.nama_attribute1 = nama_attribute1\n",
    "                self.nama_aatribute = nama_attribute2\n",
    "                \n",
    "                def nama_methods(self):\n",
    "                return #fungsinya"
   ]
  },
  {
   "cell_type": "code",
   "execution_count": 2,
   "id": "618b0d6c",
   "metadata": {},
   "outputs": [],
   "source": [
    "#Pyhton 3.x\n",
    "class NamaClass:\n",
    "    pass "
   ]
  },
  {
   "cell_type": "code",
   "execution_count": 3,
   "id": "d9e5afb3",
   "metadata": {},
   "outputs": [],
   "source": [
    "#Python 2.x\n",
    "class NamaClass():\n",
    "    pass"
   ]
  },
  {
   "cell_type": "code",
   "execution_count": 7,
   "id": "a8c38125",
   "metadata": {},
   "outputs": [],
   "source": [
    "var1 = NamaClass()"
   ]
  },
  {
   "cell_type": "code",
   "execution_count": 9,
   "id": "d78c4d0a",
   "metadata": {},
   "outputs": [
    {
     "data": {
      "text/plain": [
       "__main__.NamaClass"
      ]
     },
     "execution_count": 9,
     "metadata": {},
     "output_type": "execute_result"
    }
   ],
   "source": [
    "type(var1)"
   ]
  },
  {
   "cell_type": "code",
   "execution_count": 14,
   "id": "bd9eec3b",
   "metadata": {},
   "outputs": [],
   "source": [
    "class Kulkas:\n",
    "    def __init__(self,merek,harga):\n",
    "        self.merek = merek\n",
    "        self.harga = harga"
   ]
  },
  {
   "cell_type": "code",
   "execution_count": 15,
   "id": "c7d13425",
   "metadata": {},
   "outputs": [],
   "source": [
    "barang1 = Kulkas('samsung', 700)"
   ]
  },
  {
   "cell_type": "code",
   "execution_count": 16,
   "id": "f9de051a",
   "metadata": {},
   "outputs": [
    {
     "data": {
      "text/plain": [
       "'samsung'"
      ]
     },
     "execution_count": 16,
     "metadata": {},
     "output_type": "execute_result"
    }
   ],
   "source": [
    "barang1.merek"
   ]
  },
  {
   "cell_type": "code",
   "execution_count": 17,
   "id": "3658905a",
   "metadata": {},
   "outputs": [
    {
     "data": {
      "text/plain": [
       "700"
      ]
     },
     "execution_count": 17,
     "metadata": {},
     "output_type": "execute_result"
    }
   ],
   "source": [
    "barang1.harga"
   ]
  },
  {
   "cell_type": "code",
   "execution_count": 18,
   "id": "4ab5e396",
   "metadata": {},
   "outputs": [],
   "source": [
    "barang2 = Kulkas('Hiace', 1900)"
   ]
  },
  {
   "cell_type": "code",
   "execution_count": 19,
   "id": "97dc4c5c",
   "metadata": {},
   "outputs": [
    {
     "data": {
      "text/plain": [
       "1900"
      ]
     },
     "execution_count": 19,
     "metadata": {},
     "output_type": "execute_result"
    }
   ],
   "source": [
    "barang2.harga"
   ]
  },
  {
   "cell_type": "code",
   "execution_count": 20,
   "id": "e3c50abf",
   "metadata": {},
   "outputs": [
    {
     "data": {
      "text/plain": [
       "'Hiace'"
      ]
     },
     "execution_count": 20,
     "metadata": {},
     "output_type": "execute_result"
    }
   ],
   "source": [
    "barang2.merek"
   ]
  },
  {
   "cell_type": "code",
   "execution_count": 21,
   "id": "ccd30c4d",
   "metadata": {},
   "outputs": [],
   "source": [
    "class kulkas:\n",
    "    def __init__(self, harga, merek):\n",
    "        self.harga = harga\n",
    "        self.merek = merek\n",
    "        self.garansi = 3\n",
    "        self.fungsi = 'pendingin'"
   ]
  },
  {
   "cell_type": "code",
   "execution_count": 23,
   "id": "a9dc15d8",
   "metadata": {},
   "outputs": [],
   "source": [
    "barang2 = kulkas(1200, 'toshiba')"
   ]
  },
  {
   "cell_type": "code",
   "execution_count": 24,
   "id": "ba0480c1",
   "metadata": {},
   "outputs": [
    {
     "data": {
      "text/plain": [
       "3"
      ]
     },
     "execution_count": 24,
     "metadata": {},
     "output_type": "execute_result"
    }
   ],
   "source": [
    "barang2.garansi"
   ]
  },
  {
   "cell_type": "code",
   "execution_count": 25,
   "id": "2d0e6fd3",
   "metadata": {},
   "outputs": [
    {
     "data": {
      "text/plain": [
       "1200"
      ]
     },
     "execution_count": 25,
     "metadata": {},
     "output_type": "execute_result"
    }
   ],
   "source": [
    "barang2.harga"
   ]
  },
  {
   "cell_type": "code",
   "execution_count": 26,
   "id": "de3b630f",
   "metadata": {},
   "outputs": [
    {
     "data": {
      "text/plain": [
       "'toshiba'"
      ]
     },
     "execution_count": 26,
     "metadata": {},
     "output_type": "execute_result"
    }
   ],
   "source": [
    "barang2.merek"
   ]
  },
  {
   "cell_type": "code",
   "execution_count": 27,
   "id": "0c3d99e0",
   "metadata": {},
   "outputs": [
    {
     "data": {
      "text/plain": [
       "'pendingin'"
      ]
     },
     "execution_count": 27,
     "metadata": {},
     "output_type": "execute_result"
    }
   ],
   "source": [
    "barang2.fungsi"
   ]
  },
  {
   "cell_type": "code",
   "execution_count": null,
   "id": "f78e2d86",
   "metadata": {},
   "outputs": [],
   "source": []
  }
 ],
 "metadata": {
  "kernelspec": {
   "display_name": "Python 3 (ipykernel)",
   "language": "python",
   "name": "python3"
  },
  "language_info": {
   "codemirror_mode": {
    "name": "ipython",
    "version": 3
   },
   "file_extension": ".py",
   "mimetype": "text/x-python",
   "name": "python",
   "nbconvert_exporter": "python",
   "pygments_lexer": "ipython3",
   "version": "3.8.12"
  }
 },
 "nbformat": 4,
 "nbformat_minor": 5
}
