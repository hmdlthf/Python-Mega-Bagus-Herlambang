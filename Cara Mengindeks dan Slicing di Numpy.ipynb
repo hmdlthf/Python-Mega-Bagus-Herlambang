{
 "cells": [
  {
   "cell_type": "code",
   "execution_count": 1,
   "id": "8804b4c7",
   "metadata": {},
   "outputs": [],
   "source": [
    "import numpy as np"
   ]
  },
  {
   "cell_type": "code",
   "execution_count": 5,
   "id": "633b562d",
   "metadata": {},
   "outputs": [
    {
     "data": {
      "text/plain": [
       "array([0.02085911, 0.76181354, 0.18029867, 0.87481979, 0.36205683,\n",
       "       0.69433855, 0.69178443, 0.01207319, 0.27239104])"
      ]
     },
     "execution_count": 5,
     "metadata": {},
     "output_type": "execute_result"
    }
   ],
   "source": [
    "# Contoh bilangan distribusi uniform yaitu bilangan bilangan 0 sampai 1 \n",
    "np.random.rand(9)"
   ]
  },
  {
   "cell_type": "code",
   "execution_count": 6,
   "id": "c4ec5654",
   "metadata": {},
   "outputs": [
    {
     "data": {
      "text/plain": [
       "array([[0.86049438, 0.18137455, 0.40129103, 0.56006718, 0.72050953],\n",
       "       [0.7138926 , 0.64201701, 0.67493633, 0.88987745, 0.05937974],\n",
       "       [0.87503961, 0.42812778, 0.43596006, 0.63286023, 0.04444766],\n",
       "       [0.80878407, 0.59055108, 0.35255722, 0.71990387, 0.18205046],\n",
       "       [0.47402849, 0.52845388, 0.18483529, 0.71695452, 0.665963  ]])"
      ]
     },
     "execution_count": 6,
     "metadata": {},
     "output_type": "execute_result"
    }
   ],
   "source": [
    "#bilangan distribusi uniform (0-1) matriks 2 dimensi \n",
    "np.random.rand(5,5)"
   ]
  },
  {
   "cell_type": "code",
   "execution_count": 7,
   "id": "b1048d9b",
   "metadata": {},
   "outputs": [
    {
     "data": {
      "text/plain": [
       "array([ 1.53210779,  1.88098619,  0.76545902, -1.02740861, -0.99950291,\n",
       "        0.18587187, -1.32348984, -0.9583668 , -1.49292251,  0.31906584])"
      ]
     },
     "execution_count": 7,
     "metadata": {},
     "output_type": "execute_result"
    }
   ],
   "source": [
    "#Bilanagan distribusi Normal\n",
    "np.random.randn(10)"
   ]
  },
  {
   "cell_type": "code",
   "execution_count": 8,
   "id": "fd9db998",
   "metadata": {},
   "outputs": [
    {
     "data": {
      "text/plain": [
       "array([[ 0.4780147 , -0.82570044, -0.43649375, -0.01876624],\n",
       "       [ 0.58428925, -0.54375764, -0.60880415,  1.30732454],\n",
       "       [-0.56968304,  0.67131218, -0.16621052, -0.61220161],\n",
       "       [ 1.0235308 , -0.82061047, -0.88494184,  0.11690665]])"
      ]
     },
     "execution_count": 8,
     "metadata": {},
     "output_type": "execute_result"
    }
   ],
   "source": [
    "#bilangan distribusi normal matriks 2 dimensi \n",
    "np.random.randn(4,4)"
   ]
  },
  {
   "cell_type": "code",
   "execution_count": 10,
   "id": "7c9eba06",
   "metadata": {},
   "outputs": [],
   "source": [
    " # atau dibuat sederhana seperti ini\n",
    "from numpy.random import randn"
   ]
  },
  {
   "cell_type": "code",
   "execution_count": 11,
   "id": "fa440201",
   "metadata": {},
   "outputs": [
    {
     "data": {
      "text/plain": [
       "array([[-1.06452888,  0.28959855,  0.51855074],\n",
       "       [-1.59700881, -1.31327413,  0.48304197],\n",
       "       [ 0.91190364,  0.63487429,  1.40886091],\n",
       "       [-1.77184241, -2.00592987, -1.17225186],\n",
       "       [-2.00751359, -0.34723566, -1.56641916],\n",
       "       [ 0.32314466,  1.34972932, -0.09614429]])"
      ]
     },
     "execution_count": 11,
     "metadata": {},
     "output_type": "execute_result"
    }
   ],
   "source": [
    "randn(6,3)"
   ]
  },
  {
   "cell_type": "code",
   "execution_count": null,
   "id": "04304823",
   "metadata": {},
   "outputs": [],
   "source": []
  }
 ],
 "metadata": {
  "kernelspec": {
   "display_name": "Python 3 (ipykernel)",
   "language": "python",
   "name": "python3"
  },
  "language_info": {
   "codemirror_mode": {
    "name": "ipython",
    "version": 3
   },
   "file_extension": ".py",
   "mimetype": "text/x-python",
   "name": "python",
   "nbconvert_exporter": "python",
   "pygments_lexer": "ipython3",
   "version": "3.8.12"
  }
 },
 "nbformat": 4,
 "nbformat_minor": 5
}
