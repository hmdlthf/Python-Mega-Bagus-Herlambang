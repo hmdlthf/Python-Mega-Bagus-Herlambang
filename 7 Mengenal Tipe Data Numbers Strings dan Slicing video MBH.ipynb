{
 "cells": [
  {
   "cell_type": "markdown",
   "id": "applied-skiing",
   "metadata": {},
   "source": [
    "# TIPE DATA"
   ]
  },
  {
   "cell_type": "markdown",
   "id": "phantom-freeze",
   "metadata": {},
   "source": [
    "### 1. String\n",
    "Tipe Data : str.  \n",
    "Keterangan : karakter kata, isal 'Belajar Python' \"Semangat belajar\" \"25.0\""
   ]
  },
  {
   "cell_type": "markdown",
   "id": "seventh-connecticut",
   "metadata": {},
   "source": [
    "### 2. Integers\n",
    "Tipe data : int.\n",
    "Keterangan : Angka tanpa tanda desimal misal. 100 45 0 "
   ]
  },
  {
   "cell_type": "markdown",
   "id": "promising-government",
   "metadata": {},
   "source": [
    "### 3. Floats \n",
    "Tipe Data : float. Keterangan : Angka dengan tanda desimal contoh 21.9 30.0 29.3"
   ]
  },
  {
   "cell_type": "markdown",
   "id": "promotional-deployment",
   "metadata": {},
   "source": [
    "### 4. List \n",
    "Tipe Data : list. \n",
    "Keterangan : Kumpulan beberapa objek contoh [1, \"23.0\", \"belajar\", 23.0, 23]"
   ]
  },
  {
   "cell_type": "markdown",
   "id": "modern-monitor",
   "metadata": {},
   "source": [
    "### 5. Dictionaries\n",
    "Tipe Data : dict \n",
    "Keterangan : Kumpulan beberapa objek berpasangan contoh {\"item1\":\"ayam\", \"item\", \"ikan\"}"
   ]
  },
  {
   "cell_type": "markdown",
   "id": "focal-trinidad",
   "metadata": {},
   "source": [
    "### 6. Tuples\n",
    "Tipe data : tup. \n",
    "Keterangan : Beberapa objek yang tidak bisa diubah contoh (1, \"23.0\" ,\"belajar\", 23.0, 23)"
   ]
  },
  {
   "cell_type": "markdown",
   "id": "pregnant-silver",
   "metadata": {},
   "source": [
    "### 7. Sets \n",
    "Tipe Data : Set. Keterangan Kumpulan objek tanpa urutan misal {\"Apel\", \"Pisang\", \"mangga\"}"
   ]
  },
  {
   "cell_type": "markdown",
   "id": "retired-musical",
   "metadata": {},
   "source": [
    "### 8. Boolean \n",
    "Tipe Data : bool \n",
    "Keterangan True/False"
   ]
  },
  {
   "cell_type": "code",
   "execution_count": 1,
   "id": "indian-efficiency",
   "metadata": {},
   "outputs": [
    {
     "data": {
      "text/plain": [
       "12"
      ]
     },
     "execution_count": 1,
     "metadata": {},
     "output_type": "execute_result"
    }
   ],
   "source": [
    "2*6"
   ]
  },
  {
   "cell_type": "code",
   "execution_count": 2,
   "id": "concerned-december",
   "metadata": {},
   "outputs": [],
   "source": [
    "bil4 = 5"
   ]
  },
  {
   "cell_type": "code",
   "execution_count": 3,
   "id": "removable-carry",
   "metadata": {},
   "outputs": [
    {
     "data": {
      "text/plain": [
       "5"
      ]
     },
     "execution_count": 3,
     "metadata": {},
     "output_type": "execute_result"
    }
   ],
   "source": [
    "bil4"
   ]
  },
  {
   "cell_type": "code",
   "execution_count": 9,
   "id": "fifteen-excuse",
   "metadata": {},
   "outputs": [],
   "source": [
    "bil5 = 34.5"
   ]
  },
  {
   "cell_type": "code",
   "execution_count": 10,
   "id": "continued-myanmar",
   "metadata": {},
   "outputs": [
    {
     "data": {
      "text/plain": [
       "34.5"
      ]
     },
     "execution_count": 10,
     "metadata": {},
     "output_type": "execute_result"
    }
   ],
   "source": [
    "bil5"
   ]
  },
  {
   "cell_type": "code",
   "execution_count": 11,
   "id": "dense-airport",
   "metadata": {},
   "outputs": [
    {
     "data": {
      "text/plain": [
       "float"
      ]
     },
     "execution_count": 11,
     "metadata": {},
     "output_type": "execute_result"
    }
   ],
   "source": [
    "#untuk mengecek type bilangan\n",
    "type(bil5)"
   ]
  },
  {
   "cell_type": "code",
   "execution_count": 12,
   "id": "aerial-stuff",
   "metadata": {},
   "outputs": [
    {
     "data": {
      "text/plain": [
       "float"
      ]
     },
     "execution_count": 12,
     "metadata": {},
     "output_type": "execute_result"
    }
   ],
   "source": [
    "type(bil5)"
   ]
  },
  {
   "cell_type": "code",
   "execution_count": 13,
   "id": "atomic-madison",
   "metadata": {},
   "outputs": [],
   "source": [
    "item1 = \"semangat\""
   ]
  },
  {
   "cell_type": "code",
   "execution_count": 14,
   "id": "acoustic-expense",
   "metadata": {},
   "outputs": [
    {
     "data": {
      "text/plain": [
       "'semangat'"
      ]
     },
     "execution_count": 14,
     "metadata": {},
     "output_type": "execute_result"
    }
   ],
   "source": [
    "item1"
   ]
  },
  {
   "cell_type": "code",
   "execution_count": 15,
   "id": "adjustable-firewall",
   "metadata": {},
   "outputs": [
    {
     "data": {
      "text/plain": [
       "str"
      ]
     },
     "execution_count": 15,
     "metadata": {},
     "output_type": "execute_result"
    }
   ],
   "source": [
    "type(item1)"
   ]
  },
  {
   "cell_type": "code",
   "execution_count": 16,
   "id": "identical-synthesis",
   "metadata": {},
   "outputs": [],
   "source": [
    "bil1 = 100"
   ]
  },
  {
   "cell_type": "code",
   "execution_count": 17,
   "id": "monetary-drill",
   "metadata": {},
   "outputs": [],
   "source": [
    "bil2 = 50"
   ]
  },
  {
   "cell_type": "code",
   "execution_count": 18,
   "id": "wound-miniature",
   "metadata": {},
   "outputs": [
    {
     "data": {
      "text/plain": [
       "2.0"
      ]
     },
     "execution_count": 18,
     "metadata": {},
     "output_type": "execute_result"
    }
   ],
   "source": [
    "bil1/bil2"
   ]
  },
  {
   "cell_type": "markdown",
   "id": "declared-pharmacology",
   "metadata": {},
   "source": [
    "## Pengunaan Modulus(%) di Python"
   ]
  },
  {
   "cell_type": "code",
   "execution_count": 19,
   "id": "hybrid-participation",
   "metadata": {},
   "outputs": [
    {
     "data": {
      "text/plain": [
       "29.666666666666668"
      ]
     },
     "execution_count": 19,
     "metadata": {},
     "output_type": "execute_result"
    }
   ],
   "source": [
    "89/3"
   ]
  },
  {
   "cell_type": "code",
   "execution_count": 20,
   "id": "instrumental-calendar",
   "metadata": {},
   "outputs": [
    {
     "data": {
      "text/plain": [
       "21.31304347826087"
      ]
     },
     "execution_count": 20,
     "metadata": {},
     "output_type": "execute_result"
    }
   ],
   "source": [
    "7353/345"
   ]
  },
  {
   "cell_type": "code",
   "execution_count": 21,
   "id": "backed-language",
   "metadata": {},
   "outputs": [
    {
     "data": {
      "text/plain": [
       "float"
      ]
     },
     "execution_count": 21,
     "metadata": {},
     "output_type": "execute_result"
    }
   ],
   "source": [
    "type(7353/345)"
   ]
  },
  {
   "cell_type": "code",
   "execution_count": 22,
   "id": "solved-television",
   "metadata": {},
   "outputs": [
    {
     "data": {
      "text/plain": [
       "19"
      ]
     },
     "execution_count": 22,
     "metadata": {},
     "output_type": "execute_result"
    }
   ],
   "source": [
    "9035%23"
   ]
  },
  {
   "cell_type": "markdown",
   "id": "hazardous-twelve",
   "metadata": {},
   "source": [
    "## Penggunaan Pangkat (**) dan aturan matematika di python "
   ]
  },
  {
   "cell_type": "code",
   "execution_count": 23,
   "id": "quarterly-liabilities",
   "metadata": {},
   "outputs": [
    {
     "data": {
      "text/plain": [
       "25"
      ]
     },
     "execution_count": 23,
     "metadata": {},
     "output_type": "execute_result"
    }
   ],
   "source": [
    "5*5"
   ]
  },
  {
   "cell_type": "code",
   "execution_count": 24,
   "id": "meaningful-copying",
   "metadata": {},
   "outputs": [
    {
     "data": {
      "text/plain": [
       "3125"
      ]
     },
     "execution_count": 24,
     "metadata": {},
     "output_type": "execute_result"
    }
   ],
   "source": [
    "5**5"
   ]
  },
  {
   "cell_type": "code",
   "execution_count": 25,
   "id": "known-federal",
   "metadata": {},
   "outputs": [
    {
     "data": {
      "text/plain": [
       "8"
      ]
     },
     "execution_count": 25,
     "metadata": {},
     "output_type": "execute_result"
    }
   ],
   "source": [
    "2*2*2"
   ]
  },
  {
   "cell_type": "code",
   "execution_count": 27,
   "id": "beneficial-cornell",
   "metadata": {},
   "outputs": [
    {
     "data": {
      "text/plain": [
       "8"
      ]
     },
     "execution_count": 27,
     "metadata": {},
     "output_type": "execute_result"
    }
   ],
   "source": [
    "2**3"
   ]
  },
  {
   "cell_type": "code",
   "execution_count": 28,
   "id": "accredited-nirvana",
   "metadata": {},
   "outputs": [
    {
     "data": {
      "text/plain": [
       "69"
      ]
     },
     "execution_count": 28,
     "metadata": {},
     "output_type": "execute_result"
    }
   ],
   "source": [
    "2 + 10 * 3 + 4 * 8 + 5"
   ]
  },
  {
   "cell_type": "code",
   "execution_count": 29,
   "id": "proper-institute",
   "metadata": {},
   "outputs": [
    {
     "data": {
      "text/plain": [
       "1092"
      ]
     },
     "execution_count": 29,
     "metadata": {},
     "output_type": "execute_result"
    }
   ],
   "source": [
    "(2+10) * (3 + 4) * (8 + 5)"
   ]
  },
  {
   "cell_type": "code",
   "execution_count": 26,
   "id": "forbidden-timeline",
   "metadata": {},
   "outputs": [
    {
     "data": {
      "text/plain": [
       "22032"
      ]
     },
     "execution_count": 26,
     "metadata": {},
     "output_type": "execute_result"
    }
   ],
   "source": [
    "(45+6) * (23+4) * (12+4) "
   ]
  },
  {
   "cell_type": "markdown",
   "id": "periodic-electron",
   "metadata": {},
   "source": [
    "## Indexing dan Slicing di Pyhton "
   ]
  },
  {
   "cell_type": "code",
   "execution_count": 28,
   "id": "emerging-campbell",
   "metadata": {},
   "outputs": [],
   "source": [
    "jenis_kelamin = \"laki\""
   ]
  },
  {
   "cell_type": "code",
   "execution_count": 29,
   "id": "stylish-collection",
   "metadata": {},
   "outputs": [
    {
     "data": {
      "text/plain": [
       "'laki'"
      ]
     },
     "execution_count": 29,
     "metadata": {},
     "output_type": "execute_result"
    }
   ],
   "source": [
    "jenis_kelamin"
   ]
  },
  {
   "cell_type": "code",
   "execution_count": 34,
   "id": "criminal-burst",
   "metadata": {},
   "outputs": [],
   "source": [
    "item_saya2 = ['ikan', 'ayam', 'bebek', 'kambing', 'burung', 'angsa']"
   ]
  },
  {
   "cell_type": "code",
   "execution_count": 35,
   "id": "neither-holder",
   "metadata": {},
   "outputs": [
    {
     "data": {
      "text/plain": [
       "['ikan', 'ayam', 'bebek', 'kambing', 'burung', 'angsa']"
      ]
     },
     "execution_count": 35,
     "metadata": {},
     "output_type": "execute_result"
    }
   ],
   "source": [
    "item_saya2"
   ]
  },
  {
   "cell_type": "code",
   "execution_count": 36,
   "id": "brief-parish",
   "metadata": {},
   "outputs": [
    {
     "data": {
      "text/plain": [
       "'angsa'"
      ]
     },
     "execution_count": 36,
     "metadata": {},
     "output_type": "execute_result"
    }
   ],
   "source": [
    "item_saya2[5]"
   ]
  },
  {
   "cell_type": "code",
   "execution_count": 37,
   "id": "fitting-visit",
   "metadata": {},
   "outputs": [
    {
     "data": {
      "text/plain": [
       "'burung'"
      ]
     },
     "execution_count": 37,
     "metadata": {},
     "output_type": "execute_result"
    }
   ],
   "source": [
    "item_saya2[4]"
   ]
  },
  {
   "cell_type": "code",
   "execution_count": 39,
   "id": "sitting-stomach",
   "metadata": {},
   "outputs": [],
   "source": [
    "item_saya2 = ['ikan', 'ayam', 'bebek', \"kambing\", 'burung', 'angsa']\n"
   ]
  },
  {
   "cell_type": "code",
   "execution_count": 42,
   "id": "synthetic-saturday",
   "metadata": {},
   "outputs": [
    {
     "data": {
      "text/plain": [
       "['ikan', 'ayam', 'bebek', 'kambing', 'burung', 'angsa']"
      ]
     },
     "execution_count": 42,
     "metadata": {},
     "output_type": "execute_result"
    }
   ],
   "source": [
    "item_saya2"
   ]
  },
  {
   "cell_type": "code",
   "execution_count": 41,
   "id": "official-cooperation",
   "metadata": {},
   "outputs": [
    {
     "data": {
      "text/plain": [
       "'angsa'"
      ]
     },
     "execution_count": 41,
     "metadata": {},
     "output_type": "execute_result"
    }
   ],
   "source": [
    "item_saya2[5]"
   ]
  },
  {
   "cell_type": "code",
   "execution_count": 3,
   "id": "communist-discrimination",
   "metadata": {},
   "outputs": [],
   "source": [
    "var3 = ['bebek', 'ikan', 'haus']"
   ]
  },
  {
   "cell_type": "code",
   "execution_count": 5,
   "id": "ecological-likelihood",
   "metadata": {},
   "outputs": [
    {
     "data": {
      "text/plain": [
       "'haus'"
      ]
     },
     "execution_count": 5,
     "metadata": {},
     "output_type": "execute_result"
    }
   ],
   "source": [
    "var3[2]"
   ]
  },
  {
   "cell_type": "code",
   "execution_count": 43,
   "id": "accompanied-adobe",
   "metadata": {},
   "outputs": [
    {
     "data": {
      "text/plain": [
       "\"Assalamua'alaikum\""
      ]
     },
     "execution_count": 43,
     "metadata": {},
     "output_type": "execute_result"
    }
   ],
   "source": [
    "\"Assalamua'alaikum\""
   ]
  },
  {
   "cell_type": "code",
   "execution_count": 44,
   "id": "signed-collector",
   "metadata": {},
   "outputs": [
    {
     "data": {
      "text/plain": [
       "\"Let's do ' it\""
      ]
     },
     "execution_count": 44,
     "metadata": {},
     "output_type": "execute_result"
    }
   ],
   "source": [
    "\"Let's do ' it\""
   ]
  },
  {
   "cell_type": "code",
   "execution_count": 1,
   "id": "finite-container",
   "metadata": {},
   "outputs": [
    {
     "name": "stdout",
     "output_type": "stream",
     "text": [
      "Let's do it\n"
     ]
    }
   ],
   "source": [
    "#jika menggunakan tanda print tanda petik akan hilang\n",
    "print(\"Let's do it\")"
   ]
  },
  {
   "cell_type": "markdown",
   "id": "elementary-practice",
   "metadata": {},
   "source": [
    "### Slicing"
   ]
  },
  {
   "cell_type": "code",
   "execution_count": 2,
   "id": "mobile-topic",
   "metadata": {},
   "outputs": [
    {
     "data": {
      "text/plain": [
       "'Semangat memulai belajar Python lagi'"
      ]
     },
     "execution_count": 2,
     "metadata": {},
     "output_type": "execute_result"
    }
   ],
   "source": [
    "\"Semangat memulai belajar Python lagi\""
   ]
  },
  {
   "cell_type": "code",
   "execution_count": 5,
   "id": "proper-headline",
   "metadata": {},
   "outputs": [
    {
     "data": {
      "text/plain": [
       "'emulai belajar Python lagi'"
      ]
     },
     "execution_count": 5,
     "metadata": {},
     "output_type": "execute_result"
    }
   ],
   "source": [
    "\"Semangat memulai belajar Python lagi\"[10:45]"
   ]
  },
  {
   "cell_type": "code",
   "execution_count": 12,
   "id": "superb-office",
   "metadata": {},
   "outputs": [
    {
     "data": {
      "text/plain": [
       "'elaj'"
      ]
     },
     "execution_count": 12,
     "metadata": {},
     "output_type": "execute_result"
    }
   ],
   "source": [
    "\"Belajar pyhton itu mudah\"[1:5]"
   ]
  },
  {
   "cell_type": "code",
   "execution_count": 13,
   "id": "innovative-possible",
   "metadata": {},
   "outputs": [
    {
     "data": {
      "text/plain": [
       "'ajar p'"
      ]
     },
     "execution_count": 13,
     "metadata": {},
     "output_type": "execute_result"
    }
   ],
   "source": [
    "\"Belajar pyhton itu mudah\"[3:9]"
   ]
  },
  {
   "cell_type": "code",
   "execution_count": 48,
   "id": "subject-camera",
   "metadata": {},
   "outputs": [
    {
     "data": {
      "text/plain": [
       "'Belajar pyhton itu mudah'"
      ]
     },
     "execution_count": 48,
     "metadata": {},
     "output_type": "execute_result"
    }
   ],
   "source": [
    "\"Belajar pyhton itu mudah\"[:]"
   ]
  },
  {
   "cell_type": "markdown",
   "id": "attractive-motorcycle",
   "metadata": {},
   "source": [
    "### Konsep Slicing : Awal:akhir:jarak "
   ]
  },
  {
   "cell_type": "code",
   "execution_count": 6,
   "id": "provincial-prediction",
   "metadata": {},
   "outputs": [
    {
     "data": {
      "text/plain": [
       "'mg mabaryol'"
      ]
     },
     "execution_count": 6,
     "metadata": {},
     "output_type": "execute_result"
    }
   ],
   "source": [
    "#contoh step [awal:akhir:jarak]\n",
    "\"Semangat memulai belajar Python lagi\"[2:-2:3]"
   ]
  },
  {
   "cell_type": "markdown",
   "id": "worldwide-bracket",
   "metadata": {},
   "source": [
    "## jika ingin mundur dengan cara menuliskan [::-1]"
   ]
  },
  {
   "cell_type": "code",
   "execution_count": 7,
   "id": "center-space",
   "metadata": {},
   "outputs": [
    {
     "data": {
      "text/plain": [
       "'igal nohtyP rajaleb ialumem tagnameS'"
      ]
     },
     "execution_count": 7,
     "metadata": {},
     "output_type": "execute_result"
    }
   ],
   "source": [
    "\"Semangat memulai belajar Python lagi\"[::-1]"
   ]
  },
  {
   "cell_type": "code",
   "execution_count": 9,
   "id": "olive-farmer",
   "metadata": {},
   "outputs": [],
   "source": [
    "list = [1, 2, 3, 4, 5, 6, 7, 8, 9, 10]"
   ]
  },
  {
   "cell_type": "code",
   "execution_count": 11,
   "id": "bacterial-growing",
   "metadata": {},
   "outputs": [
    {
     "data": {
      "text/plain": [
       "[4, 6, 8, 10]"
      ]
     },
     "execution_count": 11,
     "metadata": {},
     "output_type": "execute_result"
    }
   ],
   "source": [
    "list[3::2]"
   ]
  },
  {
   "cell_type": "code",
   "execution_count": 18,
   "id": "enhanced-hamburg",
   "metadata": {},
   "outputs": [
    {
     "data": {
      "text/plain": [
       "[]"
      ]
     },
     "execution_count": 18,
     "metadata": {},
     "output_type": "execute_result"
    }
   ],
   "source": [
    "item1[100::50]"
   ]
  },
  {
   "cell_type": "code",
   "execution_count": 19,
   "id": "coastal-coupon",
   "metadata": {},
   "outputs": [],
   "source": [
    "list = [1, 2, 3, 4, 5, 6, 7, 8, 9, 10]"
   ]
  },
  {
   "cell_type": "code",
   "execution_count": 21,
   "id": "organized-marriage",
   "metadata": {},
   "outputs": [
    {
     "data": {
      "text/plain": [
       "[10, 9, 8, 7, 6, 5, 4, 3, 2, 1]"
      ]
     },
     "execution_count": 21,
     "metadata": {},
     "output_type": "execute_result"
    }
   ],
   "source": [
    "list[::-1]"
   ]
  },
  {
   "cell_type": "code",
   "execution_count": null,
   "id": "martial-watch",
   "metadata": {},
   "outputs": [],
   "source": []
  }
 ],
 "metadata": {
  "kernelspec": {
   "display_name": "Python 3",
   "language": "python",
   "name": "python3"
  },
  "language_info": {
   "codemirror_mode": {
    "name": "ipython",
    "version": 3
   },
   "file_extension": ".py",
   "mimetype": "text/x-python",
   "name": "python",
   "nbconvert_exporter": "python",
   "pygments_lexer": "ipython3",
   "version": "3.8.8"
  }
 },
 "nbformat": 4,
 "nbformat_minor": 5
}
