{
 "cells": [
  {
   "cell_type": "markdown",
   "id": "detected-relay",
   "metadata": {},
   "source": [
    "# Function "
   ]
  },
  {
   "cell_type": "raw",
   "id": "elect-protein",
   "metadata": {},
   "source": [
    "def nama_fungsinya(variabel): \n",
    "'''\n",
    "docstring = sebuah komentar untuk pembaca\n",
    "'''\n",
    "    perintah yang diinginkan \n",
    "    return/print\n",
    "\n",
    "Return digunakan: untuk mendefinisikan hasil fungsi ke variabel \n",
    "Print digunakan : jika hanya ingin mencetak hasil dari fungsinya"
   ]
  },
  {
   "cell_type": "code",
   "execution_count": 1,
   "id": "pediatric-opposition",
   "metadata": {},
   "outputs": [],
   "source": [
    "#jika menggunakan fungsi tidak harus menggunakan fungsi aritmatika "
   ]
  },
  {
   "cell_type": "code",
   "execution_count": 2,
   "id": "atomic-cover",
   "metadata": {},
   "outputs": [],
   "source": [
    "def cetak_kalimat():\n",
    "    print('ternyata belajar pyhton itu mudah')"
   ]
  },
  {
   "cell_type": "code",
   "execution_count": 6,
   "id": "prescribed-makeup",
   "metadata": {},
   "outputs": [
    {
     "name": "stdout",
     "output_type": "stream",
     "text": [
      "ternyata belajar pyhton itu mudah\n"
     ]
    }
   ],
   "source": [
    "cetak_kalimat()"
   ]
  },
  {
   "cell_type": "code",
   "execution_count": 11,
   "id": "sustained-warner",
   "metadata": {},
   "outputs": [],
   "source": [
    "list1 = list(range(1,10))"
   ]
  },
  {
   "cell_type": "code",
   "execution_count": null,
   "outputs": [],
   "source": [],
   "metadata": {
    "collapsed": false,
    "pycharm": {
     "name": "#%%\n"
    }
   }
  },
  {
   "cell_type": "code",
   "execution_count": 12,
   "id": "worthy-reality",
   "metadata": {},
   "outputs": [
    {
     "data": {
      "text/plain": [
       "<function list.append(object, /)>"
      ]
     },
     "execution_count": 12,
     "metadata": {},
     "output_type": "execute_result"
    }
   ],
   "source": [
    "list1.append"
   ]
  },
  {
   "cell_type": "code",
   "execution_count": 13,
   "id": "classified-camel",
   "metadata": {},
   "outputs": [
    {
     "data": {
      "text/plain": [
       "[1, 2, 3, 4, 5, 6, 7, 8, 9, 12]"
      ]
     },
     "execution_count": 13,
     "metadata": {},
     "output_type": "execute_result"
    }
   ],
   "source": [
    "list1.append(12)\n",
    "list1"
   ]
  },
  {
   "cell_type": "code",
   "execution_count": 14,
   "id": "typical-payment",
   "metadata": {},
   "outputs": [],
   "source": [
    "def perkalian(num1,num2): \n",
    "    return num1*num2"
   ]
  },
  {
   "cell_type": "code",
   "execution_count": 17,
   "id": "brutal-puppy",
   "metadata": {},
   "outputs": [
    {
     "data": {
      "text/plain": [
       "42"
      ]
     },
     "execution_count": 17,
     "metadata": {},
     "output_type": "execute_result"
    }
   ],
   "source": [
    "kali = perkalian(6,7)\n",
    "kali"
   ]
  },
  {
   "cell_type": "code",
   "execution_count": 18,
   "id": "reported-dependence",
   "metadata": {},
   "outputs": [],
   "source": [
    "def penjumlahan(num1,num2): \n",
    "    print(num1+num2)"
   ]
  },
  {
   "cell_type": "code",
   "execution_count": 1,
   "id": "suffering-transition",
   "metadata": {},
   "outputs": [
    {
     "ename": "NameError",
     "evalue": "name 'penjumlahan' is not defined",
     "output_type": "error",
     "traceback": [
      "\u001B[1;31m---------------------------------------------------------------------------\u001B[0m",
      "\u001B[1;31mNameError\u001B[0m                                 Traceback (most recent call last)",
      "\u001B[1;32m~\\AppData\\Local\\Temp\\ipykernel_33400\\2050933585.py\u001B[0m in \u001B[0;36m<cell line: 1>\u001B[1;34m()\u001B[0m\n\u001B[1;32m----> 1\u001B[1;33m \u001B[0mjumlah\u001B[0m \u001B[1;33m=\u001B[0m \u001B[0mpenjumlahan\u001B[0m\u001B[1;33m(\u001B[0m\u001B[1;36m1\u001B[0m\u001B[1;33m,\u001B[0m\u001B[1;36m3\u001B[0m\u001B[1;33m)\u001B[0m\u001B[1;33m\u001B[0m\u001B[1;33m\u001B[0m\u001B[0m\n\u001B[0m\u001B[0;32m      2\u001B[0m \u001B[0mjumlah\u001B[0m\u001B[1;33m\u001B[0m\u001B[1;33m\u001B[0m\u001B[0m\n",
      "\u001B[1;31mNameError\u001B[0m: name 'penjumlahan' is not defined"
     ]
    }
   ],
   "source": [
    "jumlah = penjumlahan(1,3)\n",
    "jumlah"
   ]
  },
  {
   "cell_type": "code",
   "execution_count": 20,
   "id": "light-parent",
   "metadata": {},
   "outputs": [
    {
     "data": {
      "text/plain": [
       "NoneType"
      ]
     },
     "execution_count": 20,
     "metadata": {},
     "output_type": "execute_result"
    }
   ],
   "source": [
    "type(jumlah)"
   ]
  },
  {
   "cell_type": "code",
   "execution_count": 21,
   "id": "embedded-bermuda",
   "metadata": {},
   "outputs": [],
   "source": [
    "#Mmeberikan nilai default"
   ]
  },
  {
   "cell_type": "code",
   "execution_count": 22,
   "id": "altered-eligibility",
   "metadata": {},
   "outputs": [],
   "source": [
    "def belajar(var='pyhton'):\n",
    "    print('saya sedang belajar '+var)"
   ]
  },
  {
   "cell_type": "code",
   "execution_count": 23,
   "id": "rational-massage",
   "metadata": {},
   "outputs": [
    {
     "name": "stdout",
     "output_type": "stream",
     "text": [
      "saya sedang belajar pyhton\n"
     ]
    }
   ],
   "source": [
    "belajar()"
   ]
  },
  {
   "cell_type": "code",
   "execution_count": 24,
   "id": "czech-wednesday",
   "metadata": {},
   "outputs": [],
   "source": [
    "#Bagaiamana mendefinislan bilangan genap atau ganjil "
   ]
  },
  {
   "cell_type": "code",
   "execution_count": null,
   "id": "ancient-tradition",
   "metadata": {},
   "outputs": [],
   "source": [
    "def deteksi_genap(var1):\n",
    "    '''''' \n",
    "    ini adalah fungsi  untuk membedakan ganjil genap \n",
    "    '''''' \n",
    "    if (var1%2 == 0): \n",
    "        "
   ]
  },
  {
   "cell_type": "code",
   "execution_count": 1,
   "id": "broad-profile",
   "metadata": {},
   "outputs": [],
   "source": [
    "def belajar():\n",
    "    print('python itu mudah')"
   ]
  },
  {
   "cell_type": "code",
   "execution_count": 3,
   "id": "driven-handbook",
   "metadata": {},
   "outputs": [
    {
     "name": "stdout",
     "output_type": "stream",
     "text": [
      "python itu mudah\n"
     ]
    }
   ],
   "source": [
    "belajar()"
   ]
  },
  {
   "cell_type": "code",
   "execution_count": 4,
   "id": "jewish-graham",
   "metadata": {},
   "outputs": [],
   "source": [
    "def keterangan_itu():\n",
    "    print('memudahkan dalam belajar python')\n",
    "    "
   ]
  },
  {
   "cell_type": "code",
   "execution_count": 6,
   "id": "honey-crisis",
   "metadata": {},
   "outputs": [
    {
     "name": "stdout",
     "output_type": "stream",
     "text": [
      "memudahkan dalam belajar python\n"
     ]
    }
   ],
   "source": [
    "keterangan_itu()"
   ]
  },
  {
   "cell_type": "code",
   "execution_count": 7,
   "id": "accessory-ballot",
   "metadata": {},
   "outputs": [],
   "source": [
    "list = list(range(1,10))"
   ]
  },
  {
   "cell_type": "code",
   "execution_count": 8,
   "id": "parental-familiar",
   "metadata": {},
   "outputs": [
    {
     "data": {
      "text/plain": [
       "[1, 2, 3, 4, 5, 6, 7, 8, 9]"
      ]
     },
     "execution_count": 8,
     "metadata": {},
     "output_type": "execute_result"
    }
   ],
   "source": [
    "list"
   ]
  },
  {
   "cell_type": "code",
   "execution_count": 9,
   "id": "coordinate-preview",
   "metadata": {},
   "outputs": [],
   "source": [
    "list.append(12)"
   ]
  },
  {
   "cell_type": "code",
   "execution_count": 10,
   "id": "transparent-burst",
   "metadata": {},
   "outputs": [
    {
     "data": {
      "text/plain": [
       "[1, 2, 3, 4, 5, 6, 7, 8, 9, 12]"
      ]
     },
     "execution_count": 10,
     "metadata": {},
     "output_type": "execute_result"
    }
   ],
   "source": [
    "list"
   ]
  },
  {
   "cell_type": "code",
   "execution_count": 2,
   "id": "upset-distribution",
   "metadata": {},
   "outputs": [],
   "source": [
    "def perkalian(num1,num2):\n",
    "    return num1*num2"
   ]
  },
  {
   "cell_type": "code",
   "execution_count": 3,
   "id": "c59db218",
   "metadata": {},
   "outputs": [
    {
     "data": {
      "text/plain": [
       "54"
      ]
     },
     "execution_count": 3,
     "metadata": {},
     "output_type": "execute_result"
    }
   ],
   "source": [
    "kali = perkalian(6,9)\n",
    "kali"
   ]
  },
  {
   "cell_type": "code",
   "execution_count": 8,
   "id": "2cdeb8e8",
   "metadata": {},
   "outputs": [
    {
     "name": "stdout",
     "output_type": "stream",
     "text": [
      "31\n"
     ]
    }
   ],
   "source": [
    "def penjumlahan(num1,num2):\n",
    "    print(num1+num2)"
   ]
  },
  {
   "cell_type": "code",
   "execution_count": 7,
   "outputs": [],
   "source": [
    "jumlah = penjumlahan(30,1)"
   ],
   "metadata": {
    "collapsed": false,
    "pycharm": {
     "name": "#%%\n"
    }
   }
  },
  {
   "cell_type": "code",
   "execution_count": 2,
   "id": "d16f0dce",
   "metadata": {},
   "outputs": [],
   "source": [
    "list = list(range(1,10))"
   ]
  },
  {
   "cell_type": "code",
   "execution_count": 3,
   "id": "35a52f99",
   "metadata": {},
   "outputs": [
    {
     "data": {
      "text/plain": [
       "[1, 2, 3, 4, 5, 6, 7, 8, 9]"
      ]
     },
     "execution_count": 3,
     "metadata": {},
     "output_type": "execute_result"
    }
   ],
   "source": [
    "list"
   ]
  },
  {
   "cell_type": "code",
   "execution_count": 4,
   "id": "f37bd789",
   "metadata": {},
   "outputs": [
    {
     "data": {
      "text/plain": [
       "[1, 2, 3, 4, 5, 6, 7, 8, 9, 12]"
      ]
     },
     "execution_count": 4,
     "metadata": {},
     "output_type": "execute_result"
    }
   ],
   "source": [
    "list.append(12)\n",
    "list"
   ]
  },
  {
   "cell_type": "code",
   "execution_count": 5,
   "id": "ba4d1c41",
   "metadata": {},
   "outputs": [],
   "source": [
    "def perkalian(num1,num2):\n",
    "    return(num1*num2)"
   ]
  },
  {
   "cell_type": "code",
   "execution_count": 6,
   "id": "1294010b",
   "metadata": {},
   "outputs": [
    {
     "data": {
      "text/plain": [
       "6"
      ]
     },
     "execution_count": 6,
     "metadata": {},
     "output_type": "execute_result"
    }
   ],
   "source": [
    "kali = perkalian(2,3)\n",
    "kali"
   ]
  },
  {
   "cell_type": "code",
   "execution_count": 7,
   "id": "c04a1200",
   "metadata": {},
   "outputs": [],
   "source": [
    "def penjumlahan(num1,num2):\n",
    "    print(num1*num2)"
   ]
  },
  {
   "cell_type": "code",
   "execution_count": 8,
   "id": "b574f24e",
   "metadata": {},
   "outputs": [
    {
     "name": "stdout",
     "output_type": "stream",
     "text": [
      "4\n"
     ]
    }
   ],
   "source": [
    "jumlah = penjumlahan(1,4)"
   ]
  },
  {
   "cell_type": "code",
   "execution_count": 9,
   "id": "225535c6",
   "metadata": {},
   "outputs": [
    {
     "data": {
      "text/plain": [
       "NoneType"
      ]
     },
     "execution_count": 9,
     "metadata": {},
     "output_type": "execute_result"
    }
   ],
   "source": [
    "type(jumlah)"
   ]
  },
  {
   "cell_type": "code",
   "execution_count": 10,
   "id": "d466a447",
   "metadata": {},
   "outputs": [],
   "source": [
    "def belajar(nama=\"python\"):\n",
    "    print('saya sedang belajar' + nama)"
   ]
  },
  {
   "cell_type": "code",
   "execution_count": 11,
   "id": "a12943da",
   "metadata": {},
   "outputs": [
    {
     "name": "stdout",
     "output_type": "stream",
     "text": [
      "saya sedang belajarpython\n"
     ]
    }
   ],
   "source": [
    "belajar()"
   ]
  },
  {
   "cell_type": "code",
   "execution_count": 15,
   "id": "980e9c84",
   "metadata": {},
   "outputs": [],
   "source": [
    "def bisa (coding = 'its easy'):\n",
    "    print('go ahead your code ' + coding)"
   ]
  },
  {
   "cell_type": "code",
   "execution_count": 16,
   "id": "630b48cc",
   "metadata": {},
   "outputs": [
    {
     "name": "stdout",
     "output_type": "stream",
     "text": [
      "go ahead your code its easy\n"
     ]
    }
   ],
   "source": [
    "bisa()"
   ]
  },
  {
   "cell_type": "code",
   "execution_count": 21,
   "id": "76e002c5",
   "metadata": {},
   "outputs": [],
   "source": [
    "def deteksi_genap(var1):\n",
    "    '''\n",
    "    ini adalah fungsi untuk membedakan bilangan ganjil atau genap\n",
    "    '''\n",
    "    if (var1%2 == 0):\n",
    "        print('ini adalah bilangan genap')\n",
    "    else:\n",
    "        print('ini adalah bilangan ganjil')"
   ]
  },
  {
   "cell_type": "code",
   "execution_count": 23,
   "id": "ff7ac78d",
   "metadata": {},
   "outputs": [
    {
     "name": "stdout",
     "output_type": "stream",
     "text": [
      "ini adalah bilangan ganjil\n"
     ]
    }
   ],
   "source": [
    "deteksi_genap(7)"
   ]
  },
  {
   "cell_type": "code",
   "execution_count": 31,
   "id": "a8015ae3",
   "metadata": {},
   "outputs": [
    {
     "name": "stdout",
     "output_type": "stream",
     "text": [
      "fill your wordpython its easy\n"
     ]
    }
   ],
   "source": [
    "word = input('fill your word')"
   ]
  },
  {
   "cell_type": "code",
   "execution_count": 32,
   "id": "a3670a1e",
   "metadata": {},
   "outputs": [
    {
     "data": {
      "text/plain": [
       "'python its easy'"
      ]
     },
     "execution_count": 32,
     "metadata": {},
     "output_type": "execute_result"
    }
   ],
   "source": [
    "word"
   ]
  },
  {
   "cell_type": "code",
   "execution_count": 46,
   "id": "5cd8e10c",
   "metadata": {},
   "outputs": [],
   "source": [
    "def cek_kalimat(var):\n",
    "    if 'Pyhton'.lower() in word:\n",
    "        return True\n",
    "    else:\n",
    "        return False"
   ]
  },
  {
   "cell_type": "code",
   "execution_count": 47,
   "id": "e9d73398",
   "metadata": {},
   "outputs": [
    {
     "data": {
      "text/plain": [
       "False"
      ]
     },
     "execution_count": 47,
     "metadata": {},
     "output_type": "execute_result"
    }
   ],
   "source": [
    "cek_kalimat(word)"
   ]
  },
  {
   "cell_type": "code",
   "execution_count": 44,
   "id": "41bf2073",
   "metadata": {},
   "outputs": [],
   "source": [
    "def cek_kalimat(word):\n",
    "    return 'python' in word"
   ]
  },
  {
   "cell_type": "code",
   "execution_count": 45,
   "id": "fc9e265f",
   "metadata": {},
   "outputs": [
    {
     "data": {
      "text/plain": [
       "True"
      ]
     },
     "execution_count": 45,
     "metadata": {},
     "output_type": "execute_result"
    }
   ],
   "source": [
    "cek_kalimat(word)"
   ]
  },
  {
   "cell_type": "markdown",
   "id": "ef0a171d",
   "metadata": {},
   "source": [
    "  ## * Args dan ** Kwargs "
   ]
  },
  {
   "cell_type": "code",
   "execution_count": 49,
   "id": "e6868e3d",
   "metadata": {},
   "outputs": [],
   "source": [
    "def jumlah(*args):\n",
    "    return sum((args))"
   ]
  },
  {
   "cell_type": "code",
   "execution_count": 50,
   "id": "c109fae7",
   "metadata": {},
   "outputs": [
    {
     "data": {
      "text/plain": [
       "200"
      ]
     },
     "execution_count": 50,
     "metadata": {},
     "output_type": "execute_result"
    }
   ],
   "source": [
    "jumlah(1,23,4,5,56,7,4,67,33)"
   ]
  },
  {
   "cell_type": "code",
   "execution_count": 51,
   "id": "fed4105b",
   "metadata": {},
   "outputs": [],
   "source": [
    "def cek_args(*args):\n",
    "    print(args)"
   ]
  },
  {
   "cell_type": "code",
   "execution_count": 52,
   "id": "efd92ccd",
   "metadata": {},
   "outputs": [
    {
     "name": "stdout",
     "output_type": "stream",
     "text": [
      "(2, 3, 4, 5, 3)\n"
     ]
    }
   ],
   "source": [
    "cek_args(2,3,4,5,3)"
   ]
  },
  {
   "cell_type": "code",
   "execution_count": 55,
   "id": "c50355ad",
   "metadata": {},
   "outputs": [
    {
     "data": {
      "text/plain": [
       "5047"
      ]
     },
     "execution_count": 55,
     "metadata": {},
     "output_type": "execute_result"
    }
   ],
   "source": [
    "sum((242,4563,242))"
   ]
  },
  {
   "cell_type": "code",
   "execution_count": 56,
   "id": "2d68b2e3",
   "metadata": {},
   "outputs": [],
   "source": [
    "def cek_kwargs(**kwargs):\n",
    "    print(kwargs)"
   ]
  },
  {
   "cell_type": "code",
   "execution_count": 57,
   "id": "eeaed497",
   "metadata": {},
   "outputs": [
    {
     "name": "stdout",
     "output_type": "stream",
     "text": [
      "{'anak': 32}\n"
     ]
    }
   ],
   "source": [
    "cek_kwargs(anak=32)"
   ]
  },
  {
   "cell_type": "code",
   "execution_count": 59,
   "id": "4d0f8821",
   "metadata": {},
   "outputs": [],
   "source": [
    "def cek_berat(**kwargs):\n",
    "    if 'Budi' in kwargs:\n",
    "        print('Berat Budi tergolong katgori {}'.format(kwargs['Budi']))\n",
    "    else:\n",
    "        print('Budi tidak tergolong disini')"
   ]
  },
  {
   "cell_type": "code",
   "execution_count": 60,
   "id": "d2cc1e40",
   "metadata": {},
   "outputs": [
    {
     "name": "stdout",
     "output_type": "stream",
     "text": [
      "Berat Budi tergolong katgori gemuk\n"
     ]
    }
   ],
   "source": [
    "cek_berat(Budi='gemuk', Adi='kurus')"
   ]
  },
  {
   "cell_type": "markdown",
   "id": "d7200a0b",
   "metadata": {},
   "source": [
    "## Menggabungkan * Args  dan ** Kwargs"
   ]
  },
  {
   "cell_type": "code",
   "execution_count": 61,
   "id": "13e6327c",
   "metadata": {},
   "outputs": [],
   "source": [
    "def fungsi(*args, **kwargs):\n",
    "    print('saya ingin membeli {} {} secara tunai'.format(args[0], kwargs['makanan']))"
   ]
  },
  {
   "cell_type": "code",
   "execution_count": null,
   "id": "82b8d6e5",
   "metadata": {},
   "outputs": [],
   "source": [
    "fungsi(42,12,41, buah='apel')"
   ]
  }
 ],
 "metadata": {
  "kernelspec": {
   "display_name": "Python 3 (ipykernel)",
   "language": "python",
   "name": "python3"
  },
  "language_info": {
   "codemirror_mode": {
    "name": "ipython",
    "version": 3
   },
   "file_extension": ".py",
   "mimetype": "text/x-python",
   "name": "python",
   "nbconvert_exporter": "python",
   "pygments_lexer": "ipython3",
   "version": "3.8.12"
  }
 },
 "nbformat": 4,
 "nbformat_minor": 5
}