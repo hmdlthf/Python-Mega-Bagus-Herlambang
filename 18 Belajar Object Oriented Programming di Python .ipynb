{
 "cells": [
  {
   "cell_type": "markdown",
   "id": "bf581218",
   "metadata": {},
   "source": [
    "## Di Python semuanya adalah objek (class)"
   ]
  },
  {
   "cell_type": "code",
   "execution_count": 2,
   "id": "40b5c495",
   "metadata": {},
   "outputs": [
    {
     "name": "stdout",
     "output_type": "stream",
     "text": [
      "<class 'list'>\n",
      "<class 'dict'>\n",
      "<class 'str'>\n",
      "<class 'int'>\n",
      "<class 'float'>\n",
      "<class 'tuple'>\n",
      "<class 'bool'>\n",
      "<class 'NoneType'>\n"
     ]
    }
   ],
   "source": [
    "print(type([])) #list\n",
    "print(type({})) #dictionary\n",
    "print(type('saya adalah string')) #string\n",
    "print(type(12)) #integer\n",
    "print(type(13.98)) #float\n",
    "print(type(())) #tupple\n",
    "print(type(True)) #boolean\n",
    "print(type(None)) #nontype"
   ]
  },
  {
   "cell_type": "raw",
   "id": "dbcfa9a2",
   "metadata": {},
   "source": [
    "OOP memungkinkan kita membuat objek kita sendiri termasuk methods dan attributenya"
   ]
  },
  {
   "cell_type": "code",
   "execution_count": null,
   "id": "606a7102",
   "metadata": {},
   "outputs": [],
   "source": []
  }
 ],
 "metadata": {
  "kernelspec": {
   "display_name": "Python 3 (ipykernel)",
   "language": "python",
   "name": "python3"
  },
  "language_info": {
   "codemirror_mode": {
    "name": "ipython",
    "version": 3
   },
   "file_extension": ".py",
   "mimetype": "text/x-python",
   "name": "python",
   "nbconvert_exporter": "python",
   "pygments_lexer": "ipython3",
   "version": "3.8.12"
  }
 },
 "nbformat": 4,
 "nbformat_minor": 5
}
