{
 "cells": [
  {
   "cell_type": "markdown",
   "id": "timely-inside",
   "metadata": {},
   "source": [
    "## String tidak bisa digantikan isi datanya (immmutable)"
   ]
  },
  {
   "cell_type": "code",
   "execution_count": 1,
   "id": "fifth-narrow",
   "metadata": {},
   "outputs": [],
   "source": [
    "var1 = [1,2,3,4,5]"
   ]
  },
  {
   "cell_type": "code",
   "execution_count": 2,
   "id": "perceived-partition",
   "metadata": {},
   "outputs": [],
   "source": [
    "var1[1] = 100"
   ]
  },
  {
   "cell_type": "code",
   "execution_count": 3,
   "id": "still-victor",
   "metadata": {},
   "outputs": [
    {
     "data": {
      "text/plain": [
       "[1, 100, 3, 4, 5]"
      ]
     },
     "execution_count": 3,
     "metadata": {},
     "output_type": "execute_result"
    }
   ],
   "source": [
    "var1"
   ]
  },
  {
   "cell_type": "code",
   "execution_count": 4,
   "id": "expired-baker",
   "metadata": {},
   "outputs": [],
   "source": [
    "barang_baku = [1, 2, 3, 4, 5, 6, 7, 8]"
   ]
  },
  {
   "cell_type": "code",
   "execution_count": 5,
   "id": "enhanced-clearing",
   "metadata": {},
   "outputs": [],
   "source": [
    "barang_baku[7] = 546"
   ]
  },
  {
   "cell_type": "code",
   "execution_count": 6,
   "id": "restricted-mixer",
   "metadata": {},
   "outputs": [
    {
     "data": {
      "text/plain": [
       "[1, 2, 3, 4, 5, 6, 7, 546]"
      ]
     },
     "execution_count": 6,
     "metadata": {},
     "output_type": "execute_result"
    }
   ],
   "source": [
    "barang_baku"
   ]
  },
  {
   "cell_type": "code",
   "execution_count": 8,
   "id": "protected-portal",
   "metadata": {},
   "outputs": [],
   "source": [
    "barang_baku[5] = 935399"
   ]
  },
  {
   "cell_type": "code",
   "execution_count": 9,
   "id": "several-fundamentals",
   "metadata": {},
   "outputs": [
    {
     "data": {
      "text/plain": [
       "[1, 2, 3, 4, 5, 935399, 7, 546]"
      ]
     },
     "execution_count": 9,
     "metadata": {},
     "output_type": "execute_result"
    }
   ],
   "source": [
    "barang_baku"
   ]
  },
  {
   "cell_type": "code",
   "execution_count": 10,
   "id": "breeding-message",
   "metadata": {},
   "outputs": [],
   "source": [
    "urutan_satu_diganti = [1,2,3,4,5,6,]"
   ]
  },
  {
   "cell_type": "code",
   "execution_count": 11,
   "id": "surgical-syndicate",
   "metadata": {},
   "outputs": [],
   "source": [
    "urutan_satu_diganti[1] = 9000"
   ]
  },
  {
   "cell_type": "code",
   "execution_count": 12,
   "id": "narrow-injection",
   "metadata": {},
   "outputs": [
    {
     "data": {
      "text/plain": [
       "[1, 9000, 3, 4, 5, 6]"
      ]
     },
     "execution_count": 12,
     "metadata": {},
     "output_type": "execute_result"
    }
   ],
   "source": [
    "urutan_satu_diganti"
   ]
  },
  {
   "cell_type": "code",
   "execution_count": 14,
   "id": "united-multimedia",
   "metadata": {},
   "outputs": [],
   "source": [
    "#string tidak bisa mengganti isi datanya\n",
    "nama1 = \"bambang\""
   ]
  },
  {
   "cell_type": "code",
   "execution_count": 16,
   "id": "institutional-argument",
   "metadata": {},
   "outputs": [
    {
     "ename": "TypeError",
     "evalue": "'str' object does not support item assignment",
     "output_type": "error",
     "traceback": [
      "\u001b[1;31m---------------------------------------------------------------------------\u001b[0m",
      "\u001b[1;31mTypeError\u001b[0m                                 Traceback (most recent call last)",
      "\u001b[1;32m<ipython-input-16-d5bb49c74d4d>\u001b[0m in \u001b[0;36m<module>\u001b[1;34m\u001b[0m\n\u001b[1;32m----> 1\u001b[1;33m \u001b[0mnama1\u001b[0m\u001b[1;33m[\u001b[0m\u001b[1;36m2\u001b[0m\u001b[1;33m]\u001b[0m \u001b[1;33m=\u001b[0m \u001b[1;34m\"s\"\u001b[0m\u001b[1;33m\u001b[0m\u001b[1;33m\u001b[0m\u001b[0m\n\u001b[0m",
      "\u001b[1;31mTypeError\u001b[0m: 'str' object does not support item assignment"
     ]
    }
   ],
   "source": [
    "nama1[2] = \"s\""
   ]
  },
  {
   "cell_type": "code",
   "execution_count": 18,
   "id": "hawaiian-fight",
   "metadata": {},
   "outputs": [
    {
     "data": {
      "text/plain": [
       "'bambang wijayanto'"
      ]
     },
     "execution_count": 18,
     "metadata": {},
     "output_type": "execute_result"
    }
   ],
   "source": [
    "nama1 + ' wijayanto'"
   ]
  },
  {
   "cell_type": "code",
   "execution_count": 20,
   "id": "figured-oxygen",
   "metadata": {},
   "outputs": [],
   "source": [
    "nama_lengkap = nama1 + ' wijayanto'"
   ]
  },
  {
   "cell_type": "code",
   "execution_count": 21,
   "id": "musical-pantyhose",
   "metadata": {},
   "outputs": [
    {
     "data": {
      "text/plain": [
       "'bambang wijayanto'"
      ]
     },
     "execution_count": 21,
     "metadata": {},
     "output_type": "execute_result"
    }
   ],
   "source": [
    "nama_lengkap"
   ]
  },
  {
   "cell_type": "code",
   "execution_count": 22,
   "id": "established-giant",
   "metadata": {},
   "outputs": [
    {
     "data": {
      "text/plain": [
       "'bambangbambang'"
      ]
     },
     "execution_count": 22,
     "metadata": {},
     "output_type": "execute_result"
    }
   ],
   "source": [
    "nama1*2"
   ]
  },
  {
   "cell_type": "code",
   "execution_count": 23,
   "id": "verified-light",
   "metadata": {},
   "outputs": [
    {
     "data": {
      "text/plain": [
       "'bambang wijayanto adalah eks komisioner KPK'"
      ]
     },
     "execution_count": 23,
     "metadata": {},
     "output_type": "execute_result"
    }
   ],
   "source": [
    "nama_lengkap + ' adalah eks komisioner KPK'"
   ]
  },
  {
   "cell_type": "code",
   "execution_count": 27,
   "id": "superb-maria",
   "metadata": {},
   "outputs": [
    {
     "data": {
      "text/plain": [
       "'bambang wijayantobambang wijayanto'"
      ]
     },
     "execution_count": 27,
     "metadata": {},
     "output_type": "execute_result"
    }
   ],
   "source": [
    "nama_lengkap * 2"
   ]
  },
  {
   "cell_type": "code",
   "execution_count": 28,
   "id": "multiple-membrane",
   "metadata": {},
   "outputs": [],
   "source": [
    "komisi1 = nama_lengkap + ' adalah eks komisioner KPK'"
   ]
  },
  {
   "cell_type": "code",
   "execution_count": 29,
   "id": "affected-qatar",
   "metadata": {},
   "outputs": [
    {
     "data": {
      "text/plain": [
       "'bambang wijayanto adalah eks komisioner KPK'"
      ]
     },
     "execution_count": 29,
     "metadata": {},
     "output_type": "execute_result"
    }
   ],
   "source": [
    "komisi1"
   ]
  },
  {
   "cell_type": "markdown",
   "id": "metallic-occupation",
   "metadata": {},
   "source": [
    "## Methode di Python"
   ]
  },
  {
   "cell_type": "code",
   "execution_count": 30,
   "id": "interracial-marijuana",
   "metadata": {},
   "outputs": [],
   "source": [
    "var1 = \"belajar data science digital marketing dan ilustrator\""
   ]
  },
  {
   "cell_type": "code",
   "execution_count": 31,
   "id": "geological-membership",
   "metadata": {},
   "outputs": [
    {
     "data": {
      "text/plain": [
       "'belajar data science digital marketing dan ilustrator'"
      ]
     },
     "execution_count": 31,
     "metadata": {},
     "output_type": "execute_result"
    }
   ],
   "source": [
    "var1"
   ]
  },
  {
   "cell_type": "code",
   "execution_count": 32,
   "id": "present-orleans",
   "metadata": {},
   "outputs": [
    {
     "data": {
      "text/plain": [
       "'BELAJAR DATA SCIENCE DIGITAL MARKETING DAN ILUSTRATOR'"
      ]
     },
     "execution_count": 32,
     "metadata": {},
     "output_type": "execute_result"
    }
   ],
   "source": [
    "var1.upper()"
   ]
  },
  {
   "cell_type": "code",
   "execution_count": 33,
   "id": "equipped-depression",
   "metadata": {},
   "outputs": [
    {
     "data": {
      "text/plain": [
       "'belajar data science digital marketing dan ilustrator'"
      ]
     },
     "execution_count": 33,
     "metadata": {},
     "output_type": "execute_result"
    }
   ],
   "source": [
    "var1"
   ]
  },
  {
   "cell_type": "code",
   "execution_count": 34,
   "id": "unlimited-membrane",
   "metadata": {},
   "outputs": [],
   "source": [
    "var1 = var1.upper()"
   ]
  },
  {
   "cell_type": "code",
   "execution_count": 35,
   "id": "three-vegetable",
   "metadata": {},
   "outputs": [
    {
     "data": {
      "text/plain": [
       "'BELAJAR DATA SCIENCE DIGITAL MARKETING DAN ILUSTRATOR'"
      ]
     },
     "execution_count": 35,
     "metadata": {},
     "output_type": "execute_result"
    }
   ],
   "source": [
    "var1"
   ]
  },
  {
   "cell_type": "code",
   "execution_count": 36,
   "id": "digital-documentation",
   "metadata": {},
   "outputs": [],
   "source": [
    "semangat2 = \"mempersiapkaan skill baru untuk menghadapi era teknologi\""
   ]
  },
  {
   "cell_type": "code",
   "execution_count": 37,
   "id": "naval-offering",
   "metadata": {},
   "outputs": [
    {
     "data": {
      "text/plain": [
       "'Mempersiapkaan skill baru untuk menghadapi era teknologi'"
      ]
     },
     "execution_count": 37,
     "metadata": {},
     "output_type": "execute_result"
    }
   ],
   "source": [
    "semangat2.capitalize()"
   ]
  },
  {
   "cell_type": "code",
   "execution_count": 38,
   "id": "massive-belarus",
   "metadata": {},
   "outputs": [],
   "source": [
    "semangat2 = semangat2.capitalize()"
   ]
  },
  {
   "cell_type": "code",
   "execution_count": 39,
   "id": "ranking-anderson",
   "metadata": {},
   "outputs": [
    {
     "data": {
      "text/plain": [
       "'Mempersiapkaan skill baru untuk menghadapi era teknologi'"
      ]
     },
     "execution_count": 39,
     "metadata": {},
     "output_type": "execute_result"
    }
   ],
   "source": [
    "semangat2"
   ]
  },
  {
   "cell_type": "code",
   "execution_count": 40,
   "id": "hungarian-break",
   "metadata": {},
   "outputs": [
    {
     "data": {
      "text/plain": [
       "['Mempersiapkaan', 'skill', 'baru', 'untuk', 'menghadapi', 'era', 'teknologi']"
      ]
     },
     "execution_count": 40,
     "metadata": {},
     "output_type": "execute_result"
    }
   ],
   "source": [
    "semangat2.split()"
   ]
  },
  {
   "cell_type": "markdown",
   "id": "offshore-mission",
   "metadata": {},
   "source": [
    "NLP = \"natural langguage processing\""
   ]
  },
  {
   "cell_type": "code",
   "execution_count": 42,
   "id": "harmful-malta",
   "metadata": {},
   "outputs": [
    {
     "data": {
      "text/plain": [
       "['Mempersi',\n",
       " 'pk',\n",
       " '',\n",
       " 'n skill b',\n",
       " 'ru untuk mengh',\n",
       " 'd',\n",
       " 'pi er',\n",
       " ' teknologi']"
      ]
     },
     "execution_count": 42,
     "metadata": {},
     "output_type": "execute_result"
    }
   ],
   "source": [
    "semangat2.split(\"a\")"
   ]
  },
  {
   "cell_type": "code",
   "execution_count": 43,
   "id": "illegal-newark",
   "metadata": {},
   "outputs": [
    {
     "data": {
      "text/plain": [
       "['Mempersiapkaan', 'skill', 'baru', 'untuk', 'menghadapi', 'era', 'teknologi']"
      ]
     },
     "execution_count": 43,
     "metadata": {},
     "output_type": "execute_result"
    }
   ],
   "source": [
    "semangat2.split()"
   ]
  },
  {
   "cell_type": "code",
   "execution_count": 44,
   "id": "delayed-finish",
   "metadata": {},
   "outputs": [],
   "source": [
    "var2 = [1,2,3,4,5]"
   ]
  },
  {
   "cell_type": "code",
   "execution_count": 46,
   "id": "middle-happening",
   "metadata": {},
   "outputs": [
    {
     "data": {
      "text/plain": [
       "list"
      ]
     },
     "execution_count": 46,
     "metadata": {},
     "output_type": "execute_result"
    }
   ],
   "source": [
    "type(var2)"
   ]
  },
  {
   "cell_type": "code",
   "execution_count": 3,
   "id": "thousand-skiing",
   "metadata": {},
   "outputs": [],
   "source": [
    "var3 = \"Pesantren sahabatqu\""
   ]
  },
  {
   "cell_type": "code",
   "execution_count": 4,
   "id": "indirect-better",
   "metadata": {},
   "outputs": [
    {
     "data": {
      "text/plain": [
       "['Pesantren', 'sahabatqu']"
      ]
     },
     "execution_count": 4,
     "metadata": {},
     "output_type": "execute_result"
    }
   ],
   "source": [
    "var3.split()"
   ]
  },
  {
   "cell_type": "code",
   "execution_count": 6,
   "id": "studied-publicity",
   "metadata": {},
   "outputs": [
    {
     "data": {
      "text/plain": [
       "['Pes', 'ntren s', 'h', 'b', 'tqu']"
      ]
     },
     "execution_count": 6,
     "metadata": {},
     "output_type": "execute_result"
    }
   ],
   "source": [
    "var3.split(\"a\")"
   ]
  },
  {
   "cell_type": "code",
   "execution_count": 7,
   "id": "developmental-identification",
   "metadata": {},
   "outputs": [
    {
     "data": {
      "text/plain": [
       "['P', 'santr', 'n sahabatqu']"
      ]
     },
     "execution_count": 7,
     "metadata": {},
     "output_type": "execute_result"
    }
   ],
   "source": [
    "var3.split(\"e\")"
   ]
  },
  {
   "cell_type": "code",
   "execution_count": 9,
   "id": "about-lodge",
   "metadata": {},
   "outputs": [],
   "source": [
    "var2 = [1,2,3,4,5]"
   ]
  },
  {
   "cell_type": "code",
   "execution_count": 12,
   "id": "interpreted-fleece",
   "metadata": {},
   "outputs": [
    {
     "data": {
      "text/plain": [
       "list"
      ]
     },
     "execution_count": 12,
     "metadata": {},
     "output_type": "execute_result"
    }
   ],
   "source": [
    "type(var2)"
   ]
  },
  {
   "cell_type": "markdown",
   "id": "personalized-outreach",
   "metadata": {},
   "source": [
    "# Print Methode dan Formatting di Python"
   ]
  },
  {
   "cell_type": "code",
   "execution_count": 49,
   "id": "fixed-airfare",
   "metadata": {},
   "outputs": [],
   "source": [
    "var1 = 'harus istiqomah'"
   ]
  },
  {
   "cell_type": "code",
   "execution_count": 50,
   "id": "wooden-pathology",
   "metadata": {},
   "outputs": [
    {
     "name": "stdout",
     "output_type": "stream",
     "text": [
      "harus istiqomah\n"
     ]
    }
   ],
   "source": [
    "print(var1)"
   ]
  },
  {
   "cell_type": "code",
   "execution_count": 51,
   "id": "greenhouse-stand",
   "metadata": {},
   "outputs": [
    {
     "data": {
      "text/plain": [
       "'harus istiqomah'"
      ]
     },
     "execution_count": 51,
     "metadata": {},
     "output_type": "execute_result"
    }
   ],
   "source": [
    "var1"
   ]
  },
  {
   "cell_type": "code",
   "execution_count": 13,
   "id": "stunning-trick",
   "metadata": {},
   "outputs": [],
   "source": [
    "var1 = 'pesantren sahabatqu'"
   ]
  },
  {
   "cell_type": "code",
   "execution_count": 15,
   "id": "metropolitan-underground",
   "metadata": {},
   "outputs": [
    {
     "name": "stdout",
     "output_type": "stream",
     "text": [
      "pesantren sahabatqu\n"
     ]
    }
   ],
   "source": [
    "#jika menggunakan print tanda petik hilang\n",
    "print(var1)"
   ]
  },
  {
   "cell_type": "code",
   "execution_count": 17,
   "id": "mysterious-apache",
   "metadata": {},
   "outputs": [
    {
     "name": "stdout",
     "output_type": "stream",
     "text": [
      "santri sahabatqu berjumlah 222 santri\n"
     ]
    }
   ],
   "source": [
    "print('santri sahabatqu berjumlah {} santri'.format('222'))"
   ]
  },
  {
   "cell_type": "code",
   "execution_count": 18,
   "id": "governing-coordinator",
   "metadata": {},
   "outputs": [
    {
     "name": "stdout",
     "output_type": "stream",
     "text": [
      "Jumlah dana donatur yang masuk pada tahun 2021 sejumlah 1.600.000.000 rupiah\n"
     ]
    }
   ],
   "source": [
    "print('Jumlah dana donatur yang masuk pada tahun 2021 sejumlah {} rupiah'.format('1.600.000.000'))"
   ]
  },
  {
   "cell_type": "code",
   "execution_count": 19,
   "id": "vanilla-nicholas",
   "metadata": {},
   "outputs": [
    {
     "name": "stdout",
     "output_type": "stream",
     "text": [
      "urutan pemenang lomba lari adalah hasya samiya nazifah\n"
     ]
    }
   ],
   "source": [
    "print(\"urutan pemenang lomba lari adalah {} {} {}\".format(\"hasya\", \"samiya\", \"nazifah\"))"
   ]
  },
  {
   "cell_type": "code",
   "execution_count": 20,
   "id": "fatal-lambda",
   "metadata": {},
   "outputs": [
    {
     "name": "stdout",
     "output_type": "stream",
     "text": [
      "urutan pemenang lomba lari adalah nazifah samiya hasya\n"
     ]
    }
   ],
   "source": [
    "print(\"urutan pemenang lomba lari adalah {2} {1} {0}\".format(\"hasya\", \"samiya\", \"nazifah\"))"
   ]
  },
  {
   "cell_type": "code",
   "execution_count": 21,
   "id": "historical-grill",
   "metadata": {},
   "outputs": [
    {
     "name": "stdout",
     "output_type": "stream",
     "text": [
      "urutan pemenang lomba lari adalah hasya nazifah samiya\n"
     ]
    }
   ],
   "source": [
    "print(\"urutan pemenang lomba lari adalah {a} {c} {b}\".format(a=\"hasya\", b=\"samiya\", c=\"nazifah\"))"
   ]
  },
  {
   "cell_type": "code",
   "execution_count": 27,
   "id": "announced-involvement",
   "metadata": {},
   "outputs": [
    {
     "name": "stdout",
     "output_type": "stream",
     "text": [
      "urutan pemenang lomba makan kerupuk samiya umi hasya\n"
     ]
    }
   ],
   "source": [
    "print(\"urutan pemenang lomba makan kerupuk {a} {b} {c}\".format(a=\"samiya\", c=\"hasya\", b=\"umi\"))"
   ]
  },
  {
   "cell_type": "code",
   "execution_count": 28,
   "id": "juvenile-republican",
   "metadata": {},
   "outputs": [],
   "source": [
    "phi = 344/23"
   ]
  },
  {
   "cell_type": "code",
   "execution_count": 29,
   "id": "bizarre-quick",
   "metadata": {},
   "outputs": [
    {
     "data": {
      "text/plain": [
       "14.956521739130435"
      ]
     },
     "execution_count": 29,
     "metadata": {},
     "output_type": "execute_result"
    }
   ],
   "source": [
    "phi"
   ]
  },
  {
   "cell_type": "code",
   "execution_count": 30,
   "id": "impossible-material",
   "metadata": {},
   "outputs": [
    {
     "name": "stdout",
     "output_type": "stream",
     "text": [
      "untuk menghitung luas lingkaran gunakan phi = 14.956521739130435\n"
     ]
    }
   ],
   "source": [
    "print('untuk menghitung luas lingkaran gunakan phi = {}'.format(phi))"
   ]
  },
  {
   "cell_type": "code",
   "execution_count": 31,
   "id": "formal-briefing",
   "metadata": {},
   "outputs": [
    {
     "name": "stdout",
     "output_type": "stream",
     "text": [
      "untuk menghitung luas lingkaran gunakan phi\n"
     ]
    }
   ],
   "source": [
    "print(\"untuk menghitung luas lingkaran gunakan phi\".format(phi))"
   ]
  },
  {
   "cell_type": "code",
   "execution_count": null,
   "id": "sustained-modern",
   "metadata": {},
   "outputs": [],
   "source": []
  }
 ],
 "metadata": {
  "kernelspec": {
   "display_name": "Python 3",
   "language": "python",
   "name": "python3"
  },
  "language_info": {
   "codemirror_mode": {
    "name": "ipython",
    "version": 3
   },
   "file_extension": ".py",
   "mimetype": "text/x-python",
   "name": "python",
   "nbconvert_exporter": "python",
   "pygments_lexer": "ipython3",
   "version": "3.8.8"
  }
 },
 "nbformat": 4,
 "nbformat_minor": 5
}
