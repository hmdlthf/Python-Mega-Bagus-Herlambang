{
 "cells": [
  {
   "cell_type": "markdown",
   "metadata": {},
   "source": [
    "# For Loops "
   ]
  },
  {
   "cell_type": "raw",
   "metadata": {},
   "source": [
    "Aturan penulisan:\n",
    "for item in item \n",
    "    eksekusi perintah "
   ]
  },
  {
   "cell_type": "code",
   "execution_count": 1,
   "metadata": {},
   "outputs": [
    {
     "name": "stdout",
     "output_type": "stream",
     "text": [
      "s\n",
      "a\n",
      "y\n",
      "a\n",
      " \n",
      "b\n",
      "e\n",
      "l\n",
      "a\n",
      "j\n",
      "a\n",
      "r\n",
      " \n",
      "P\n",
      "y\n",
      "t\n",
      "h\n",
      "o\n",
      "n\n"
     ]
    }
   ],
   "source": [
    "for i in 'saya belajar Python':\n",
    "    print(i)"
   ]
  },
  {
   "cell_type": "code",
   "execution_count": 2,
   "metadata": {},
   "outputs": [
    {
     "name": "stdout",
     "output_type": "stream",
     "text": [
      "saya belajar Python"
     ]
    }
   ],
   "source": [
    "#Jika ingin print langsung disampaing dengan menggunakan end\n",
    "\n",
    "for i in 'saya belajar Python':\n",
    "    print(i, end='')"
   ]
  },
  {
   "cell_type": "code",
   "execution_count": 3,
   "metadata": {},
   "outputs": [],
   "source": [
    "#List juga bisa digunakan literasi \n",
    "Angka = [1,2,3,4,5,6,7,8,9,10]"
   ]
  },
  {
   "cell_type": "code",
   "execution_count": 4,
   "metadata": {},
   "outputs": [
    {
     "name": "stdout",
     "output_type": "stream",
     "text": [
      "1\n",
      "2\n",
      "3\n",
      "4\n",
      "5\n",
      "6\n",
      "7\n",
      "8\n",
      "9\n",
      "10\n"
     ]
    }
   ],
   "source": [
    "for isi in Angka:\n",
    "    print(isi)\n"
   ]
  },
  {
   "cell_type": "code",
   "execution_count": 5,
   "metadata": {},
   "outputs": [],
   "source": [
    "#bisa digunakan untuk mencari hasil penjumlahan\n",
    "\n",
    "jumlah = 0 "
   ]
  },
  {
   "cell_type": "code",
   "execution_count": 6,
   "metadata": {},
   "outputs": [
    {
     "name": "stdout",
     "output_type": "stream",
     "text": [
      "Hasil penjumlahan pada iterator ke-1 adalah 1\n",
      "Hasil penjumlahan pada iterator ke-2 adalah 3\n",
      "Hasil penjumlahan pada iterator ke-3 adalah 6\n",
      "Hasil penjumlahan pada iterator ke-4 adalah 10\n",
      "Hasil penjumlahan pada iterator ke-5 adalah 15\n",
      "Hasil penjumlahan pada iterator ke-6 adalah 21\n",
      "Hasil penjumlahan pada iterator ke-7 adalah 28\n",
      "Hasil penjumlahan pada iterator ke-8 adalah 36\n",
      "Hasil penjumlahan pada iterator ke-9 adalah 45\n",
      "Hasil penjumlahan pada iterator ke-10 adalah 55\n"
     ]
    }
   ],
   "source": [
    "for isi in Angka:\n",
    "        jumlah = jumlah + isi\n",
    "        print('Hasil penjumlahan pada iterator ke-{} adalah {}'.format(isi,jumlah))"
   ]
  },
  {
   "cell_type": "code",
   "execution_count": 7,
   "metadata": {},
   "outputs": [
    {
     "name": "stdout",
     "output_type": "stream",
     "text": [
      "Hasil penjumlahan total adalah 110\n"
     ]
    }
   ],
   "source": [
    "for isi in Angka:\n",
    "    jumlah = jumlah + isi \n",
    "print('Hasil penjumlahan total adalah', jumlah)"
   ]
  },
  {
   "cell_type": "markdown",
   "metadata": {},
   "source": [
    "# Penggunaan Looping dan Conditionals "
   ]
  },
  {
   "cell_type": "code",
   "execution_count": 8,
   "metadata": {},
   "outputs": [
    {
     "name": "stdout",
     "output_type": "stream",
     "text": [
      "kamu berada di huruf A, selamat\n",
      "kamu berada di huruf A, selamat\n",
      "kamu berada di huruf A, selamat\n",
      "kamu berada di huruf A, selamat\n"
     ]
    }
   ],
   "source": [
    "for item in 'saya belajar Pyhton':\n",
    "    if (item == 'a'):\n",
    "        print('kamu berada di huruf A, selamat')"
   ]
  },
  {
   "cell_type": "code",
   "execution_count": 9,
   "metadata": {},
   "outputs": [
    {
     "name": "stdout",
     "output_type": "stream",
     "text": [
      "kamu berada di huruf A, selamat 2\n",
      "kamu berada di huruf A, selamat 4\n",
      "kamu berada di huruf A, selamat 9\n",
      "kamu berada di huruf A, selamat 11\n"
     ]
    }
   ],
   "source": [
    "#Mengetahui posisi \n",
    "jumlah = 0\n",
    "for item in 'saya belajar Pyhton':\n",
    "    jumlah += 1\n",
    "    if (item == 'a'):\n",
    "        print('kamu berada di huruf A, selamat',jumlah)"
   ]
  },
  {
   "cell_type": "markdown",
   "metadata": {},
   "source": [
    "# Tantangan "
   ]
  },
  {
   "cell_type": "code",
   "execution_count": 10,
   "metadata": {},
   "outputs": [],
   "source": [
    "angka = [1,2,3,4,5,6,7,8,9,10]"
   ]
  },
  {
   "cell_type": "code",
   "execution_count": 11,
   "metadata": {},
   "outputs": [
    {
     "name": "stdout",
     "output_type": "stream",
     "text": [
      "1\n",
      "2\n",
      "3\n",
      "4\n",
      "5\n",
      "6\n",
      "7\n",
      "8\n",
      "9\n",
      "10\n"
     ]
    }
   ],
   "source": [
    "for item in angka:\n",
    "    print(item)"
   ]
  },
  {
   "cell_type": "code",
   "execution_count": 12,
   "metadata": {},
   "outputs": [
    {
     "name": "stdout",
     "output_type": "stream",
     "text": [
      "angka 1 adalah bilangan ganjil\n",
      "angka 2 adalah bilangan genap\n",
      "angka 3 adalah bilangan ganjil\n",
      "angka 4 adalah bilangan genap\n",
      "angka 5 adalah bilangan ganjil\n",
      "angka 6 adalah bilangan genap\n",
      "angka 7 adalah bilangan ganjil\n",
      "angka 8 adalah bilangan genap\n",
      "angka 9 adalah bilangan ganjil\n",
      "angka 10 adalah bilangan genap\n"
     ]
    }
   ],
   "source": [
    "for item in angka:\n",
    "    if item%2 == 0:\n",
    "        print('angka',item,'adalah bilangan genap')\n",
    "    else:\n",
    "        print('angka '+str(item)+' adalah bilangan ganjil')"
   ]
  },
  {
   "cell_type": "code",
   "execution_count": 13,
   "metadata": {},
   "outputs": [],
   "source": [
    "angka = [11,12,13,14,15,16,17,18,19,20,21,22,23,24,25,26,27,28,29,30,31,32]"
   ]
  },
  {
   "cell_type": "code",
   "execution_count": 14,
   "metadata": {},
   "outputs": [
    {
     "name": "stdout",
     "output_type": "stream",
     "text": [
      "angka 11 adalah bialngan ganjil\n",
      "angka 12 adalah angka genap\n",
      "angka 13 adalah bialngan ganjil\n",
      "angka 14 adalah angka genap\n",
      "angka 15 adalah bialngan ganjil\n",
      "angka 16 adalah angka genap\n",
      "angka 17 adalah bialngan ganjil\n",
      "angka 18 adalah angka genap\n",
      "angka 19 adalah bialngan ganjil\n",
      "angka 20 adalah angka genap\n",
      "angka 21 adalah bialngan ganjil\n",
      "angka 22 adalah angka genap\n",
      "angka 23 adalah bialngan ganjil\n",
      "angka 24 adalah angka genap\n",
      "angka 25 adalah bialngan ganjil\n",
      "angka 26 adalah angka genap\n",
      "angka 27 adalah bialngan ganjil\n",
      "angka 28 adalah angka genap\n",
      "angka 29 adalah bialngan ganjil\n",
      "angka 30 adalah angka genap\n",
      "angka 31 adalah bialngan ganjil\n",
      "angka 32 adalah angka genap\n"
     ]
    }
   ],
   "source": [
    "for item in angka:\n",
    "    if item%2 == 0:\n",
    "        print('angka',item,'adalah angka genap')\n",
    "    else:\n",
    "        print('angka '+str(item)+' adalah bialngan ganjil')"
   ]
  },
  {
   "cell_type": "markdown",
   "metadata": {},
   "source": [
    "# For loops dengan tuple dan list multiple items"
   ]
  },
  {
   "cell_type": "code",
   "execution_count": 15,
   "metadata": {},
   "outputs": [],
   "source": [
    "box1 = ((1,2),(3,4),(5,6))"
   ]
  },
  {
   "cell_type": "code",
   "execution_count": 16,
   "metadata": {},
   "outputs": [
    {
     "name": "stdout",
     "output_type": "stream",
     "text": [
      "(1, 2)\n",
      "(3, 4)\n",
      "(5, 6)\n"
     ]
    }
   ],
   "source": [
    "for item in box1:\n",
    "    print(item)"
   ]
  },
  {
   "cell_type": "code",
   "execution_count": 17,
   "metadata": {},
   "outputs": [
    {
     "name": "stdout",
     "output_type": "stream",
     "text": [
      "1\n",
      "2\n",
      "3\n",
      "4\n",
      "5\n",
      "6\n"
     ]
    }
   ],
   "source": [
    "for a,b in box1:\n",
    "    print(a)\n",
    "    print(b)"
   ]
  },
  {
   "cell_type": "code",
   "execution_count": 18,
   "metadata": {},
   "outputs": [
    {
     "name": "stdout",
     "output_type": "stream",
     "text": [
      "1\n",
      "2\n",
      "3\n",
      "4\n",
      "5\n",
      "6\n"
     ]
    }
   ],
   "source": [
    "box2 = [[1,2],[3,4],[5,6]]\n",
    "for a,b in box2:\n",
    "    print(a)\n",
    "    print(b)"
   ]
  },
  {
   "cell_type": "code",
   "execution_count": 19,
   "metadata": {},
   "outputs": [],
   "source": [
    "box3 = [[1,2,'a'],[3,4,'b'],[5,6,'c']]"
   ]
  },
  {
   "cell_type": "code",
   "execution_count": 20,
   "metadata": {},
   "outputs": [
    {
     "name": "stdout",
     "output_type": "stream",
     "text": [
      "a\n",
      "b\n",
      "c\n"
     ]
    }
   ],
   "source": [
    "for i,j,k in box3:\n",
    "    print(k)"
   ]
  },
  {
   "cell_type": "markdown",
   "metadata": {},
   "source": [
    "# While Loop\n"
   ]
  },
  {
   "cell_type": "markdown",
   "metadata": {},
   "source": [
    "Ada 3 argumen yang biasa digunakan:\n",
    "1. break = menghentikan looping\n",
    "2. continue = melanjutkan looping ke iterator selanjtunya dan melewati iterator saat ini \n",
    "3. pass = tidak melakukan apa2"
   ]
  },
  {
   "cell_type": "raw",
   "metadata": {},
   "source": [
    "while (sebuah kondisi = True):\n",
    "    eksekusi"
   ]
  },
  {
   "cell_type": "code",
   "execution_count": 21,
   "metadata": {},
   "outputs": [
    {
     "name": "stdout",
     "output_type": "stream",
     "text": [
      "saya berhasil menjalankan while loop\n",
      "saya berhasil menjalankan while loop\n",
      "saya berhasil menjalankan while loop\n",
      "saya berhasil menjalankan while loop\n",
      "saya berhasil menjalankan while loop\n",
      "saya berhasil menjalankan while loop\n",
      "saya berhasil menjalankan while loop\n",
      "saya berhasil menjalankan while loop\n",
      "saya berhasil menjalankan while loop\n",
      "saya berhasil menjalankan while loop\n"
     ]
    }
   ],
   "source": [
    "indeks = 0\n",
    "while True:\n",
    "    print('saya berhasil menjalankan while loop')\n",
    "    indeks += 1\n",
    "    if indeks == 10:\n",
    "        break"
   ]
  },
  {
   "cell_type": "code",
   "execution_count": 22,
   "metadata": {},
   "outputs": [],
   "source": [
    "#Menggunakan dengan while pada sebuah kondisi "
   ]
  },
  {
   "cell_type": "code",
   "execution_count": 23,
   "metadata": {},
   "outputs": [],
   "source": [
    "x = 0"
   ]
  },
  {
   "cell_type": "code",
   "execution_count": 24,
   "metadata": {},
   "outputs": [
    {
     "name": "stdout",
     "output_type": "stream",
     "text": [
      "Bilangan x saat ini adalah:  0\n",
      "Bilangan x saat ini adalah:  2\n",
      "Bilangan x saat ini adalah:  4\n",
      "Bilangan x saat ini adalah:  6\n",
      "Bilangan x saat ini adalah:  8\n",
      "Bilangan x saat ini adalah:  10\n",
      "Bilangan x saat ini adalah:  12\n",
      "Bilangan x saat ini adalah:  14\n",
      "Bilangan x saat ini adalah:  16\n",
      "Bilangan x saat ini adalah:  18\n",
      "Bilangan x saat ini adalah:  20\n",
      "Bilangan x saat ini adalah:  22\n",
      "Bilangan x saat ini adalah:  24\n",
      "Bilangan x saat ini adalah:  26\n",
      "Bilangan x saat ini adalah:  28\n",
      "Bilangan x saat ini adalah:  30\n",
      "Bilangan x saat ini adalah:  32\n",
      "Bilangan x saat ini adalah:  34\n",
      "Bilangan x saat ini adalah:  36\n",
      "Bilangan x saat ini adalah:  38\n",
      "Bilangan x saat ini adalah:  40\n",
      "Bilangan x saat ini adalah:  42\n",
      "Bilangan x saat ini adalah:  44\n",
      "Bilangan x saat ini adalah:  46\n",
      "Bilangan x saat ini adalah:  48\n"
     ]
    }
   ],
   "source": [
    "while x < 50:\n",
    "    print('Bilangan x saat ini adalah: ',x)\n",
    "    x += 2"
   ]
  },
  {
   "cell_type": "code",
   "execution_count": 26,
   "metadata": {},
   "outputs": [],
   "source": [
    "# Continue (akan skip dan akan lanjutkan ke step selanjutnya)"
   ]
  },
  {
   "cell_type": "code",
   "execution_count": 28,
   "metadata": {},
   "outputs": [],
   "source": [
    "angka = [1,2,3,4,5,6,7,8,9,10]"
   ]
  },
  {
   "cell_type": "code",
   "execution_count": 29,
   "metadata": {},
   "outputs": [
    {
     "name": "stdout",
     "output_type": "stream",
     "text": [
      "anda berada di angka ganjil = 1\n",
      "anda berada di angka ganjil = 3\n",
      "anda berada di angka ganjil = 5\n",
      "anda berada di angka ganjil = 7\n",
      "anda berada di angka ganjil = 9\n"
     ]
    }
   ],
   "source": [
    "for item in angka:\n",
    "    if item%2 == 0:\n",
    "        continue\n",
    "    else:\n",
    "        print('anda berada di angka ganjil =', item)"
   ]
  },
  {
   "cell_type": "code",
   "execution_count": 30,
   "metadata": {},
   "outputs": [],
   "source": [
    "for i in 'saya sudah mulai mahir di python':\n",
    "    if i == 'a':\n",
    "        pass\n",
    "    else:\n",
    "        continue"
   ]
  },
  {
   "cell_type": "code",
   "execution_count": 31,
   "metadata": {},
   "outputs": [],
   "source": [
    "for i in 'abcd':\n",
    "    pass "
   ]
  },
  {
   "cell_type": "markdown",
   "metadata": {},
   "source": [
    "## For Loops"
   ]
  },
  {
   "cell_type": "raw",
   "metadata": {},
   "source": [
    "Digunakan unutk melakukan iterasi\n",
    "hampir semua objek di Python bisa di iterasi \n",
    "\n",
    "Aturan Penulisan \n",
    "for item in items:\n",
    "eksekusi perintah"
   ]
  },
  {
   "cell_type": "code",
   "execution_count": 2,
   "metadata": {},
   "outputs": [
    {
     "name": "stdout",
     "output_type": "stream",
     "text": [
      "Q\n",
      "o\n",
      "m\n",
      "p\n",
      "u\n",
      "t\n",
      "a\n",
      "t\n",
      "i\n",
      "o\n",
      "n\n",
      "a\n",
      "l\n",
      " \n",
      "T\n",
      "h\n",
      "i\n",
      "n\n",
      "k\n",
      "i\n",
      "n\n",
      "g\n"
     ]
    }
   ],
   "source": [
    "for i in 'Qomputational Thinking':\n",
    "    print(i)"
   ]
  },
  {
   "cell_type": "code",
   "execution_count": 3,
   "metadata": {},
   "outputs": [
    {
     "name": "stdout",
     "output_type": "stream",
     "text": [
      "p\n",
      "y\n",
      "t\n",
      "h\n",
      "o\n",
      "n\n"
     ]
    }
   ],
   "source": [
    "for i in 'python':\n",
    "    print(i)"
   ]
  },
  {
   "cell_type": "code",
   "execution_count": 5,
   "metadata": {},
   "outputs": [
    {
     "name": "stdout",
     "output_type": "stream",
     "text": [
      "python"
     ]
    }
   ],
   "source": [
    "for i in 'python':\n",
    "    print(i, end='')"
   ]
  },
  {
   "cell_type": "code",
   "execution_count": 6,
   "metadata": {},
   "outputs": [
    {
     "name": "stdout",
     "output_type": "stream",
     "text": [
      "programming"
     ]
    }
   ],
   "source": [
    "for i in 'programming':\n",
    "    print(i, end='')"
   ]
  },
  {
   "cell_type": "code",
   "execution_count": 7,
   "metadata": {},
   "outputs": [],
   "source": [
    "number = [1,2,3,4,5,6,7,8,9]"
   ]
  },
  {
   "cell_type": "code",
   "execution_count": 9,
   "metadata": {},
   "outputs": [
    {
     "name": "stdout",
     "output_type": "stream",
     "text": [
      "123456789"
     ]
    }
   ],
   "source": [
    "for i in number:\n",
    "    print(i, end='')"
   ]
  },
  {
   "cell_type": "code",
   "execution_count": 12,
   "metadata": {},
   "outputs": [],
   "source": [
    "jumlah = 0"
   ]
  },
  {
   "cell_type": "code",
   "execution_count": 13,
   "metadata": {},
   "outputs": [
    {
     "name": "stdout",
     "output_type": "stream",
     "text": [
      "jumlah dari iterator ke 1 adalah 1\n",
      "jumlah dari iterator ke 2 adalah 3\n",
      "jumlah dari iterator ke 3 adalah 6\n",
      "jumlah dari iterator ke 4 adalah 10\n",
      "jumlah dari iterator ke 5 adalah 15\n",
      "jumlah dari iterator ke 6 adalah 21\n",
      "jumlah dari iterator ke 7 adalah 28\n",
      "jumlah dari iterator ke 8 adalah 36\n",
      "jumlah dari iterator ke 9 adalah 45\n"
     ]
    }
   ],
   "source": [
    "for i in number:\n",
    "    jumlah = jumlah + i\n",
    "    print('jumlah dari iterator ke {} adalah {}'.format(i,jumlah))"
   ]
  },
  {
   "cell_type": "code",
   "execution_count": 16,
   "metadata": {},
   "outputs": [
    {
     "name": "stdout",
     "output_type": "stream",
     "text": [
      "hasil dari penjumlahan iterator ke - 1 adalah 92\n",
      "hasil dari penjumlahan iterator ke - 2 adalah 94\n",
      "hasil dari penjumlahan iterator ke - 3 adalah 97\n",
      "hasil dari penjumlahan iterator ke - 4 adalah 101\n",
      "hasil dari penjumlahan iterator ke - 5 adalah 106\n",
      "hasil dari penjumlahan iterator ke - 6 adalah 112\n",
      "hasil dari penjumlahan iterator ke - 7 adalah 119\n",
      "hasil dari penjumlahan iterator ke - 8 adalah 127\n",
      "hasil dari penjumlahan iterator ke - 9 adalah 136\n"
     ]
    }
   ],
   "source": [
    "for i in number:\n",
    "    jumlah = jumlah + i\n",
    "    print('hasil dari penjumlahan iterator ke - {} adalah {}'.format(i,jumlah))"
   ]
  },
  {
   "cell_type": "code",
   "execution_count": 19,
   "metadata": {},
   "outputs": [
    {
     "name": "stdout",
     "output_type": "stream",
     "text": [
      "hasil dari penjumlahan total adalah 271\n"
     ]
    }
   ],
   "source": [
    "for i in number:\n",
    "    jumlah = jumlah + i \n",
    "print('hasil dari penjumlahan total adalah', jumlah)"
   ]
  },
  {
   "cell_type": "code",
   "execution_count": null,
   "metadata": {},
   "outputs": [],
   "source": [
    "number= [100,200,300,400,500]"
   ]
  },
  {
   "cell_type": "code",
   "execution_count": 30,
   "metadata": {},
   "outputs": [
    {
     "name": "stdout",
     "output_type": "stream",
     "text": [
      "100\n",
      "200\n",
      "300\n",
      "400\n",
      "500\n"
     ]
    }
   ],
   "source": [
    "for i in number:\n",
    "    print(i)"
   ]
  },
  {
   "cell_type": "code",
   "execution_count": 32,
   "metadata": {},
   "outputs": [],
   "source": [
    "total = 1"
   ]
  },
  {
   "cell_type": "code",
   "execution_count": 33,
   "metadata": {},
   "outputs": [
    {
     "name": "stdout",
     "output_type": "stream",
     "text": [
      "total of numbering that list of 100 is 101\n",
      "total of numbering that list of 200 is 301\n",
      "total of numbering that list of 300 is 601\n",
      "total of numbering that list of 400 is 1001\n",
      "total of numbering that list of 500 is 1501\n"
     ]
    }
   ],
   "source": [
    "for i in number:\n",
    "    total = total + i \n",
    "    print('total of numbering that list of {} is {}'.format(i,total))"
   ]
  },
  {
   "cell_type": "code",
   "execution_count": 35,
   "metadata": {},
   "outputs": [
    {
     "name": "stdout",
     "output_type": "stream",
     "text": [
      "total of numbering that list is 4501\n"
     ]
    }
   ],
   "source": [
    "for i in number:\n",
    "    total = total + i \n",
    "print('total of numbering that list is', total)"
   ]
  },
  {
   "cell_type": "markdown",
   "metadata": {},
   "source": [
    "## Penggunaan Looping dan Conditionals"
   ]
  },
  {
   "cell_type": "code",
   "execution_count": 36,
   "metadata": {},
   "outputs": [
    {
     "name": "stdout",
     "output_type": "stream",
     "text": [
      "Word of a is many\n",
      "Word of a is many\n",
      "Word of a is many\n",
      "Word of a is many\n"
     ]
    }
   ],
   "source": [
    "for item in 'saya belajar Python':\n",
    "    if item == 'a':\n",
    "        print('Word of a is many')"
   ]
  },
  {
   "cell_type": "code",
   "execution_count": 21,
   "metadata": {},
   "outputs": [],
   "source": [
    "number = [1,2,3,4,5,6,7,8,9]"
   ]
  },
  {
   "cell_type": "code",
   "execution_count": 26,
   "metadata": {},
   "outputs": [
    {
     "name": "stdout",
     "output_type": "stream",
     "text": [
      "hasil dari pembagian 1 adalah angka genap\n",
      "hasil dari pembagian 2 adalah angka ganjil\n",
      "hasil dari pembagian 3 adalah angka genap\n",
      "hasil dari pembagian 4 adalah angka ganjil\n",
      "hasil dari pembagian 5 adalah angka genap\n",
      "hasil dari pembagian 6 adalah angka ganjil\n",
      "hasil dari pembagian 7 adalah angka genap\n",
      "hasil dari pembagian 8 adalah angka ganjil\n",
      "hasil dari pembagian 9 adalah angka genap\n"
     ]
    }
   ],
   "source": [
    "for i in number:\n",
    "    if i%2 == 0:\n",
    "        print('hasil dari pembagian {} adalah angka ganjil'.format(i))\n",
    "    else:\n",
    "        print('hasil dari pembagian {} adalah angka genap'.format(i))\n",
    "    "
   ]
  },
  {
   "cell_type": "code",
   "execution_count": 54,
   "metadata": {},
   "outputs": [
    {
     "name": "stdout",
     "output_type": "stream",
     "text": [
      "angka {} adalah bilangan ganjil 1\n",
      "angka {} adalah bilangan genap 2\n",
      "angka {} adalah bilangan ganjil 3\n",
      "angka {} adalah bilangan genap 4\n",
      "angka {} adalah bilangan ganjil 5\n",
      "angka {} adalah bilangan genap 6\n",
      "angka {} adalah bilangan ganjil 7\n",
      "angka {} adalah bilangan genap 8\n",
      "angka {} adalah bilangan ganjil 9\n"
     ]
    }
   ],
   "source": [
    "for item in angka:\n",
    "    if item%2 == 0:\n",
    "        print('angka {} adalah bilangan genap', format(item))\n",
    "    else: \n",
    "        print('angka {} adalah bilangan ganjil', format(item))"
   ]
  },
  {
   "cell_type": "code",
   "execution_count": 39,
   "metadata": {},
   "outputs": [],
   "source": [
    "total = 0"
   ]
  },
  {
   "cell_type": "code",
   "execution_count": 41,
   "metadata": {},
   "outputs": [
    {
     "name": "stdout",
     "output_type": "stream",
     "text": [
      "Word of a is many 2\n",
      "Word of a is many 4\n",
      "Word of a is many 9\n",
      "Word of a is many 11\n"
     ]
    }
   ],
   "source": [
    "#jika ingin mengertahui index keberapa dengan cara\n",
    "total = 0\n",
    "for item in 'saya belajar Python':\n",
    "    total += 1\n",
    "    if item == 'a':\n",
    "        print('Word of a is many', total)"
   ]
  },
  {
   "cell_type": "code",
   "execution_count": 42,
   "metadata": {},
   "outputs": [],
   "source": [
    "angka = [1,2,3,4,5,6,7,8,9]"
   ]
  },
  {
   "cell_type": "code",
   "execution_count": 43,
   "metadata": {},
   "outputs": [
    {
     "name": "stdout",
     "output_type": "stream",
     "text": [
      "123456789"
     ]
    }
   ],
   "source": [
    "for i in angka:\n",
    "    print(i, end='')"
   ]
  },
  {
   "cell_type": "code",
   "execution_count": 51,
   "metadata": {},
   "outputs": [],
   "source": [
    "angka = [1,2,3,4,5,6,7,8,9]"
   ]
  },
  {
   "cell_type": "markdown",
   "metadata": {},
   "source": [
    "## For loop dengan tuple dan list multiple items"
   ]
  },
  {
   "cell_type": "code",
   "execution_count": 28,
   "metadata": {},
   "outputs": [],
   "source": [
    "box1 = ((1,2), (2,3),(4,5))"
   ]
  },
  {
   "cell_type": "code",
   "execution_count": 29,
   "metadata": {},
   "outputs": [
    {
     "name": "stdout",
     "output_type": "stream",
     "text": [
      "(1, 2)\n",
      "(2, 3)\n",
      "(4, 5)\n"
     ]
    }
   ],
   "source": [
    "for item in box1:\n",
    "    print(item)"
   ]
  },
  {
   "cell_type": "code",
   "execution_count": 31,
   "metadata": {},
   "outputs": [
    {
     "name": "stdout",
     "output_type": "stream",
     "text": [
      "1 2\n",
      "2 3\n",
      "4 5\n"
     ]
    }
   ],
   "source": [
    "for a,b in box1:\n",
    "    print(a,b)"
   ]
  },
  {
   "cell_type": "code",
   "execution_count": 34,
   "metadata": {},
   "outputs": [
    {
     "name": "stdout",
     "output_type": "stream",
     "text": [
      "1\n",
      "2\n",
      "2\n",
      "3\n",
      "4\n",
      "5\n"
     ]
    }
   ],
   "source": [
    "for a,b in box1:\n",
    "    print(a)\n",
    "    print(b)"
   ]
  },
  {
   "cell_type": "code",
   "execution_count": 39,
   "metadata": {},
   "outputs": [
    {
     "name": "stdout",
     "output_type": "stream",
     "text": [
      "[1, 2]\n",
      "[3, 4]\n",
      "[5, 6]\n"
     ]
    }
   ],
   "source": [
    "box2 = [[1,2], [3,4],[5,6]]\n",
    "for i in box2:\n",
    "    print(i)\n",
    "   "
   ]
  },
  {
   "cell_type": "markdown",
   "metadata": {},
   "source": [
    "## While Loop"
   ]
  },
  {
   "cell_type": "raw",
   "metadata": {},
   "source": [
    "Ada 3 argumen yang biasa digunakan:\n",
    "1. Break = menghentikan looping \n",
    "2. continue = melanjutkan looping le iterator selanjutnya dan melawati iterator saat ini\n",
    "3. pass = tidak melakukan apa apa "
   ]
  },
  {
   "cell_type": "code",
   "execution_count": null,
   "metadata": {},
   "outputs": [],
   "source": [
    "indeks = 0"
   ]
  },
  {
   "cell_type": "code",
   "execution_count": null,
   "metadata": {},
   "outputs": [],
   "source": [
    "while True:\n",
    "    print('saya berhasil')\n",
    "        indeks += 1\n",
    "        if indeks == 10:\n",
    "            break"
   ]
  },
  {
   "cell_type": "code",
   "execution_count": null,
   "metadata": {},
   "outputs": [],
   "source": [
    "x = 0"
   ]
  },
  {
   "cell_type": "code",
   "execution_count": null,
   "metadata": {},
   "outputs": [],
   "source": [
    "while x < 50:\n",
    "    print('bilangan x saat ini adalah:', x)\n",
    "    x+=2"
   ]
  },
  {
   "cell_type": "code",
   "execution_count": null,
   "metadata": {},
   "outputs": [],
   "source": []
  }
 ],
 "metadata": {
  "kernelspec": {
   "display_name": "Python 3",
   "language": "python",
   "name": "python3"
  },
  "language_info": {
   "codemirror_mode": {
    "name": "ipython",
    "version": 3
   },
   "file_extension": ".py",
   "mimetype": "text/x-python",
   "name": "python",
   "nbconvert_exporter": "python",
   "pygments_lexer": "ipython3",
   "version": "3.8.8"
  }
 },
 "nbformat": 4,
 "nbformat_minor": 4
}
