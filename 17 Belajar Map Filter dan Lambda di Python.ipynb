{
 "cells": [
  {
   "cell_type": "markdown",
   "id": "e32186d9",
   "metadata": {},
   "source": [
    "## Map"
   ]
  },
  {
   "cell_type": "code",
   "execution_count": 2,
   "id": "62088253",
   "metadata": {},
   "outputs": [],
   "source": [
    "def kali10(num):\n",
    "    return num*10"
   ]
  },
  {
   "cell_type": "code",
   "execution_count": 5,
   "id": "5eac448d",
   "metadata": {},
   "outputs": [
    {
     "data": {
      "text/plain": [
       "760"
      ]
     },
     "execution_count": 5,
     "metadata": {},
     "output_type": "execute_result"
    }
   ],
   "source": [
    "kali10(76)for "
   ]
  },
  {
   "cell_type": "code",
   "execution_count": 6,
   "id": "e0745e4e",
   "metadata": {},
   "outputs": [],
   "source": [
    "angka = [3,6,9]"
   ]
  },
  {
   "cell_type": "code",
   "execution_count": 8,
   "id": "792259df",
   "metadata": {},
   "outputs": [
    {
     "name": "stdout",
     "output_type": "stream",
     "text": [
      "30\n",
      "60\n",
      "90\n"
     ]
    }
   ],
   "source": [
    "for item in map(kali10,angka):\n",
    "    print(item)"
   ]
  },
  {
   "cell_type": "code",
   "execution_count": 10,
   "id": "6838820f",
   "metadata": {},
   "outputs": [
    {
     "data": {
      "text/plain": [
       "[30, 60, 90]"
      ]
     },
     "execution_count": 10,
     "metadata": {},
     "output_type": "execute_result"
    }
   ],
   "source": [
    "hasil = list(map(kali10,angka))\n",
    "hasil"
   ]
  },
  {
   "cell_type": "code",
   "execution_count": 11,
   "id": "56527dc8",
   "metadata": {},
   "outputs": [],
   "source": [
    "angka2 = (34,5,8)"
   ]
  },
  {
   "cell_type": "code",
   "execution_count": 12,
   "id": "e3e742c5",
   "metadata": {},
   "outputs": [
    {
     "data": {
      "text/plain": [
       "(340, 50, 80)"
      ]
     },
     "execution_count": 12,
     "metadata": {},
     "output_type": "execute_result"
    }
   ],
   "source": [
    "hasil2 = tuple(map(kali10,angka2))\n",
    "hasil2"
   ]
  },
  {
   "cell_type": "code",
   "execution_count": 17,
   "id": "ac5380ba",
   "metadata": {},
   "outputs": [],
   "source": [
    "def jumlahkata(kata):\n",
    "    if len(kata)%2==0:\n",
    "        return 'Genap'\n",
    "    else:\n",
    "        return 'Ganjil'"
   ]
  },
  {
   "cell_type": "code",
   "execution_count": 18,
   "id": "221863db",
   "metadata": {},
   "outputs": [
    {
     "data": {
      "text/plain": [
       "'Genap'"
      ]
     },
     "execution_count": 18,
     "metadata": {},
     "output_type": "execute_result"
    }
   ],
   "source": [
    "jumlahkata('Notebook Python Mega Bagus/16 Memahami Scope dan LEGB ipynb is not trusted')"
   ]
  },
  {
   "cell_type": "code",
   "execution_count": 24,
   "id": "1b066ea2",
   "metadata": {},
   "outputs": [],
   "source": [
    "def berapakata(kata):\n",
    "    if len(kata)%2 == 0:\n",
    "        return 'Ganjil pasti'\n",
    "    else:\n",
    "        return ' Pasti Genap'"
   ]
  },
  {
   "cell_type": "code",
   "execution_count": 25,
   "id": "af22e415",
   "metadata": {},
   "outputs": [
    {
     "data": {
      "text/plain": [
       "' Pasti Genap'"
      ]
     },
     "execution_count": 25,
     "metadata": {},
     "output_type": "execute_result"
    }
   ],
   "source": [
    "berapakata('Starting buffering for 50e0442c-3801-4321-a390-aeda06bbb6a5:19e705cde0b44d89982f5a7b3681ae0')"
   ]
  },
  {
   "cell_type": "code",
   "execution_count": 26,
   "id": "7fcb2244",
   "metadata": {},
   "outputs": [],
   "source": [
    "listkata = ['asadada', 'nsgsdgh', 'bnmsfsdhf']"
   ]
  },
  {
   "cell_type": "code",
   "execution_count": 27,
   "id": "1b21e905",
   "metadata": {},
   "outputs": [
    {
     "data": {
      "text/plain": [
       "['Ganjil', 'Ganjil', 'Ganjil']"
      ]
     },
     "execution_count": 27,
     "metadata": {},
     "output_type": "execute_result"
    }
   ],
   "source": [
    "list(map(jumlahkata,listkata))"
   ]
  },
  {
   "cell_type": "markdown",
   "id": "157903e3",
   "metadata": {},
   "source": [
    "## Filter"
   ]
  },
  {
   "cell_type": "code",
   "execution_count": 1,
   "id": "2266bce5",
   "metadata": {},
   "outputs": [
    {
     "data": {
      "text/plain": [
       "filter"
      ]
     },
     "execution_count": 1,
     "metadata": {},
     "output_type": "execute_result"
    }
   ],
   "source": [
    "filter"
   ]
  },
  {
   "cell_type": "code",
   "execution_count": 2,
   "id": "bd61ecf7",
   "metadata": {},
   "outputs": [],
   "source": [
    "def cekgenap(num): \n",
    "    return num%2 == 0 "
   ]
  },
  {
   "cell_type": "code",
   "execution_count": 3,
   "id": "639b1a9d",
   "metadata": {},
   "outputs": [
    {
     "data": {
      "text/plain": [
       "True"
      ]
     },
     "execution_count": 3,
     "metadata": {},
     "output_type": "execute_result"
    }
   ],
   "source": [
    "cekgenap(8)"
   ]
  },
  {
   "cell_type": "code",
   "execution_count": 4,
   "id": "b84ddf12",
   "metadata": {},
   "outputs": [
    {
     "data": {
      "text/plain": [
       "False"
      ]
     },
     "execution_count": 4,
     "metadata": {},
     "output_type": "execute_result"
    }
   ],
   "source": [
    "cekgenap(9)"
   ]
  },
  {
   "cell_type": "code",
   "execution_count": 15,
   "id": "c7b6e63f",
   "metadata": {},
   "outputs": [],
   "source": [
    "nomor = [1,2,3,4,5,6,7,8,9]"
   ]
  },
  {
   "cell_type": "markdown",
   "id": "e6b3bd52",
   "metadata": {},
   "source": [
    "## Lambda Expression"
   ]
  },
  {
   "cell_type": "code",
   "execution_count": 17,
   "id": "b6e6da98",
   "metadata": {},
   "outputs": [],
   "source": [
    "fungsiku = lambda i: i*10"
   ]
  },
  {
   "cell_type": "code",
   "execution_count": 18,
   "id": "b3e93320",
   "metadata": {},
   "outputs": [
    {
     "data": {
      "text/plain": [
       "740"
      ]
     },
     "execution_count": 18,
     "metadata": {},
     "output_type": "execute_result"
    }
   ],
   "source": [
    "fungsiku(74)"
   ]
  },
  {
   "cell_type": "code",
   "execution_count": null,
   "id": "18d77ef8",
   "metadata": {},
   "outputs": [],
   "source": []
  }
 ],
 "metadata": {
  "kernelspec": {
   "display_name": "Python 3 (ipykernel)",
   "language": "python",
   "name": "python3"
  },
  "language_info": {
   "codemirror_mode": {
    "name": "ipython",
    "version": 3
   },
   "file_extension": ".py",
   "mimetype": "text/x-python",
   "name": "python",
   "nbconvert_exporter": "python",
   "pygments_lexer": "ipython3",
   "version": "3.8.12"
  }
 },
 "nbformat": 4,
 "nbformat_minor": 5
}
