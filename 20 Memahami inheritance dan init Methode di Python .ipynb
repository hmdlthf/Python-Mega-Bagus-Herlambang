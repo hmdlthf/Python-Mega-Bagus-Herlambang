{
 "cells": [
  {
   "cell_type": "code",
   "execution_count": 35,
   "id": "212f96d5",
   "metadata": {},
   "outputs": [],
   "source": [
    "class Kulkas:\n",
    "    \n",
    "    penjual = 'pak mamat'\n",
    "    \n",
    "    def __init__(self,harga,merek):\n",
    "        self.harga = harga\n",
    "        self.merek = merek\n",
    "        self.garansi = 3 \n",
    "        self.fungsi = 'pendingin'\n",
    "    \n",
    "    def Konsumsi(self):\n",
    "        print('500 watt')\n",
    "        \n",
    "    def DayaTampung(self):\n",
    "        print('lima kilo')\n",
    "        \n",
    "    def Tipe(self):\n",
    "        print('dua pintu')\n",
    "        \n",
    "    def Keterangan(self):\n",
    "        print('Kulkas merek {} harganya sebesar {}, dan nama penjualnya {}'.format(self.merek, self.harga, self.penjual))\n",
    "        \n",
    "    def Latihan(self):\n",
    "        print('setelah membeli kulkas dengan merek {}, yang fungsinya sebagai {}, oleh pak mamat dengan harga {}, pak mamat akan diberikan {}'.format(self.merek, self.fungsi, self.harga, self.garansi))\n",
    "        \n",
    "    def LatihanDua(self, istri):\n",
    "        print('Kulkas yang dijual dengan merek {}, oleh {}, yang memiliki {} istri,'.format(self.merek, self.penjual, istri))"
   ]
  },
  {
   "cell_type": "code",
   "execution_count": 36,
   "id": "f701592b",
   "metadata": {},
   "outputs": [],
   "source": [
    "barang3 = Kulkas(1200, 'LG')"
   ]
  },
  {
   "cell_type": "code",
   "execution_count": 3,
   "id": "74182f96",
   "metadata": {},
   "outputs": [
    {
     "data": {
      "text/plain": [
       "'pendingin'"
      ]
     },
     "execution_count": 3,
     "metadata": {},
     "output_type": "execute_result"
    }
   ],
   "source": [
    "barang3.fungsi"
   ]
  },
  {
   "cell_type": "code",
   "execution_count": 4,
   "id": "7068141e",
   "metadata": {},
   "outputs": [
    {
     "data": {
      "text/plain": [
       "'LG'"
      ]
     },
     "execution_count": 4,
     "metadata": {},
     "output_type": "execute_result"
    }
   ],
   "source": [
    "barang3.merek"
   ]
  },
  {
   "cell_type": "code",
   "execution_count": 5,
   "id": "d5f46627",
   "metadata": {},
   "outputs": [
    {
     "data": {
      "text/plain": [
       "'pak mamat'"
      ]
     },
     "execution_count": 5,
     "metadata": {},
     "output_type": "execute_result"
    }
   ],
   "source": [
    "barang3.penjual"
   ]
  },
  {
   "cell_type": "code",
   "execution_count": 7,
   "id": "9044ef66",
   "metadata": {},
   "outputs": [
    {
     "name": "stdout",
     "output_type": "stream",
     "text": [
      "500 watt\n"
     ]
    }
   ],
   "source": [
    "barang3.konsumsi()"
   ]
  },
  {
   "cell_type": "code",
   "execution_count": 17,
   "id": "a91ea65d",
   "metadata": {},
   "outputs": [
    {
     "name": "stdout",
     "output_type": "stream",
     "text": [
      "lima kilo\n"
     ]
    }
   ],
   "source": [
    "barang3.DayaTampung()"
   ]
  },
  {
   "cell_type": "code",
   "execution_count": 20,
   "id": "93fb790f",
   "metadata": {},
   "outputs": [
    {
     "name": "stdout",
     "output_type": "stream",
     "text": [
      "dua pintu\n"
     ]
    }
   ],
   "source": [
    "barang3.Tipe()"
   ]
  },
  {
   "cell_type": "code",
   "execution_count": 33,
   "id": "1be19ec0",
   "metadata": {},
   "outputs": [
    {
     "name": "stdout",
     "output_type": "stream",
     "text": [
      "Kulkas merek LG harganya sebesar 1200, dan nama penjualnya pak mamat\n"
     ]
    }
   ],
   "source": [
    "barang3.Keterangan()"
   ]
  },
  {
   "cell_type": "code",
   "execution_count": 26,
   "id": "3bbfd9ba",
   "metadata": {},
   "outputs": [
    {
     "name": "stdout",
     "output_type": "stream",
     "text": [
      "setelah membeli kulkas dengan merek LG, yang fungsinya sebagai pendingin, oleh pak mamat dengan harga 1200, pak mamat akan diberikan 3\n"
     ]
    }
   ],
   "source": [
    "barang3.Latihan()"
   ]
  },
  {
   "cell_type": "code",
   "execution_count": 37,
   "id": "b952738f",
   "metadata": {},
   "outputs": [
    {
     "name": "stdout",
     "output_type": "stream",
     "text": [
      "Kulkas yang dijual dengan merek LG, oleh pak mamat, yang memiliki 3 istri,\n"
     ]
    }
   ],
   "source": [
    "barang3.LatihanDua(3)"
   ]
  },
  {
   "cell_type": "code",
   "execution_count": 19,
   "id": "7a3b319c",
   "metadata": {},
   "outputs": [],
   "source": [
    "class Lingkaran:\n",
    "    \n",
    "    phi = 3.14\n",
    "    \n",
    "    def __init__(self, radius):\n",
    "        self.radius = radius\n",
    "        self.luas = 2*self.phi*radius*radius\n",
    "    \n",
    "    def Keliling(self):\n",
    "        return 2*self.phi*self.radius\n",
    "    \n"
   ]
  },
  {
   "cell_type": "code",
   "execution_count": 14,
   "id": "ebb53bac",
   "metadata": {},
   "outputs": [],
   "source": [
    "l1 = Lingkaran(10)"
   ]
  },
  {
   "cell_type": "code",
   "execution_count": 20,
   "id": "bf661299",
   "metadata": {},
   "outputs": [
    {
     "data": {
      "text/plain": [
       "62.800000000000004"
      ]
     },
     "execution_count": 20,
     "metadata": {},
     "output_type": "execute_result"
    }
   ],
   "source": [
    "l1.Keliling()"
   ]
  },
  {
   "cell_type": "code",
   "execution_count": 23,
   "id": "7fde7612",
   "metadata": {},
   "outputs": [
    {
     "data": {
      "text/plain": [
       "628.0"
      ]
     },
     "execution_count": 23,
     "metadata": {},
     "output_type": "execute_result"
    }
   ],
   "source": [
    "l1.luas()"
   ]
  },
  {
   "cell_type": "markdown",
   "id": "47be58a1",
   "metadata": {},
   "source": [
    "## Inheritance"
   ]
  },
  {
   "cell_type": "code",
   "execution_count": 10,
   "id": "071a3888",
   "metadata": {},
   "outputs": [],
   "source": [
    "class Mahasiswa:\n",
    "    \n",
    "    status = 'mahasiswa kedokteran'\n",
    "    \n",
    "    def __init__(self, nama, kelas):\n",
    "        self.nama = nama\n",
    "        self.kelas = kelas\n",
    "        \n",
    "    def keterangan(self):\n",
    "        print('{} saat ini semester {} adalah seorang {} yang rajin'.format(self.nama, self.kelas, self.status))"
   ]
  },
  {
   "cell_type": "code",
   "execution_count": 15,
   "id": "25dd38c9",
   "metadata": {},
   "outputs": [],
   "source": [
    "Andi = Mahasiswa('Andi', 12)"
   ]
  },
  {
   "cell_type": "code",
   "execution_count": 22,
   "id": "22974714",
   "metadata": {},
   "outputs": [
    {
     "name": "stdout",
     "output_type": "stream",
     "text": [
      "Andi di kelas 12 adalah seorang mahasiswa\n"
     ]
    }
   ],
   "source": [
    "Andi.keterangan()"
   ]
  },
  {
   "cell_type": "code",
   "execution_count": 20,
   "id": "d36d88ea",
   "metadata": {},
   "outputs": [],
   "source": [
    "Amir = Mahasiswa('Amir', 3)"
   ]
  },
  {
   "cell_type": "code",
   "execution_count": 23,
   "id": "ad28f182",
   "metadata": {},
   "outputs": [
    {
     "name": "stdout",
     "output_type": "stream",
     "text": [
      "Amir di kelas 3 adalah seorang mahasiswa\n"
     ]
    }
   ],
   "source": [
    "Amir.keterangan() "
   ]
  },
  {
   "cell_type": "code",
   "execution_count": 24,
   "id": "0d8897fb",
   "metadata": {},
   "outputs": [],
   "source": [
    "class Nilai(Mahasiswa):\n",
    "    \n",
    "    def __init__(self, nama, kelas):\n",
    "        super().__init__(nama, kelas) #atau tulis Mahasiswa.__init__(nama, kelas)\n",
    "        self.nilai_update = []\n",
    "        \n",
    "    def input_nilai(self, tambah):\n",
    "        return self.nilai_update.append(tambah)"
   ]
  },
  {
   "cell_type": "code",
   "execution_count": 25,
   "id": "600a50dd",
   "metadata": {},
   "outputs": [],
   "source": [
    "Budi = Nilai('Budi', 13)"
   ]
  },
  {
   "cell_type": "code",
   "execution_count": 27,
   "id": "cdbad9ee",
   "metadata": {},
   "outputs": [
    {
     "name": "stdout",
     "output_type": "stream",
     "text": [
      "Budi di kelas 13 adalah seorang mahasiswa\n"
     ]
    }
   ],
   "source": [
    "Budi.keterangan()"
   ]
  },
  {
   "cell_type": "code",
   "execution_count": 28,
   "id": "3bc8a242",
   "metadata": {},
   "outputs": [],
   "source": [
    "Budi.input_nilai(80)"
   ]
  },
  {
   "cell_type": "code",
   "execution_count": 29,
   "id": "40c77de5",
   "metadata": {},
   "outputs": [
    {
     "data": {
      "text/plain": [
       "[80]"
      ]
     },
     "execution_count": 29,
     "metadata": {},
     "output_type": "execute_result"
    }
   ],
   "source": [
    "Budi.nilai_update"
   ]
  },
  {
   "cell_type": "code",
   "execution_count": null,
   "id": "f1ca30b1",
   "metadata": {},
   "outputs": [],
   "source": []
  }
 ],
 "metadata": {
  "kernelspec": {
   "display_name": "Python 3 (ipykernel)",
   "language": "python",
   "name": "python3"
  },
  "language_info": {
   "codemirror_mode": {
    "name": "ipython",
    "version": 3
   },
   "file_extension": ".py",
   "mimetype": "text/x-python",
   "name": "python",
   "nbconvert_exporter": "python",
   "pygments_lexer": "ipython3",
   "version": "3.8.12"
  }
 },
 "nbformat": 4,
 "nbformat_minor": 5
}
