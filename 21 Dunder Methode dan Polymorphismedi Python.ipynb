{
 "cells": [
  {
   "cell_type": "markdown",
   "id": "56660660",
   "metadata": {},
   "source": [
    "## Polymorphism\n"
   ]
  },
  {
   "cell_type": "code",
   "execution_count": 9,
   "id": "77c386f9",
   "metadata": {},
   "outputs": [],
   "source": [
    "class Kucing:\n",
    "    \n",
    "    def __init__(self, nama):\n",
    "        self.nama = nama\n",
    "        \n",
    "    def respon(self):\n",
    "        return self.nama + ' bersuara Meong-meoang !'\n",
    "    "
   ]
  },
  {
   "cell_type": "code",
   "execution_count": 18,
   "id": "0d889cd2",
   "metadata": {},
   "outputs": [],
   "source": [
    "class Anjing:\n",
    "    \n",
    "    def __init__(self,nama):\n",
    "        self.nama = nama\n",
    "        \n",
    "    def respon(self):\n",
    "        return self.nama + ' bersuara Guk-guk!'"
   ]
  },
  {
   "cell_type": "code",
   "execution_count": 30,
   "id": "76099f34",
   "metadata": {},
   "outputs": [],
   "source": [
    "cat = Kucing('cat')"
   ]
  },
  {
   "cell_type": "code",
   "execution_count": 11,
   "id": "4df3c767",
   "metadata": {},
   "outputs": [
    {
     "data": {
      "text/plain": [
       "'cat bersuara Meong-meoang !'"
      ]
     },
     "execution_count": 11,
     "metadata": {},
     "output_type": "execute_result"
    }
   ],
   "source": [
    "cat.respon()"
   ]
  },
  {
   "cell_type": "code",
   "execution_count": 29,
   "id": "9f82fb4a",
   "metadata": {},
   "outputs": [],
   "source": [
    "dog = Anjing('dog')"
   ]
  },
  {
   "cell_type": "code",
   "execution_count": 28,
   "id": "4295f8ba",
   "metadata": {},
   "outputs": [
    {
     "data": {
      "text/plain": [
       "'dog bersuara Guk-guk!'"
      ]
     },
     "execution_count": 28,
     "metadata": {},
     "output_type": "execute_result"
    }
   ],
   "source": [
    "dog.respon()"
   ]
  },
  {
   "cell_type": "code",
   "execution_count": 35,
   "id": "52179be3",
   "metadata": {},
   "outputs": [
    {
     "name": "stdout",
     "output_type": "stream",
     "text": [
      "<class '__main__.Kucing'>\n",
      "cat bersuara Meong-meoang !\n",
      "<class '__main__.Anjing'>\n",
      "dog bersuara Guk-guk!\n"
     ]
    }
   ],
   "source": [
    "for binatang in [cat, dog]:\n",
    "    print(type(binatang))\n",
    "    print(binatang.respon())"
   ]
  },
  {
   "cell_type": "code",
   "execution_count": 39,
   "id": "e1db2a08",
   "metadata": {},
   "outputs": [],
   "source": [
    "def hewan_bersuara(test):\n",
    "    print(test.respon())"
   ]
  },
  {
   "cell_type": "code",
   "execution_count": 40,
   "id": "77ac8721",
   "metadata": {},
   "outputs": [
    {
     "name": "stdout",
     "output_type": "stream",
     "text": [
      "cat bersuara Meong-meoang !\n"
     ]
    }
   ],
   "source": [
    "hewan_bersuara(cat)"
   ]
  },
  {
   "cell_type": "code",
   "execution_count": 41,
   "id": "a11b8373",
   "metadata": {},
   "outputs": [
    {
     "name": "stdout",
     "output_type": "stream",
     "text": [
      "dog bersuara Guk-guk!\n"
     ]
    }
   ],
   "source": [
    "hewan_bersuara(dog)"
   ]
  },
  {
   "cell_type": "markdown",
   "id": "9b3da593",
   "metadata": {},
   "source": [
    "## Dunder / Magic Methode\n"
   ]
  },
  {
   "cell_type": "code",
   "execution_count": 77,
   "id": "989d9342",
   "metadata": {},
   "outputs": [],
   "source": [
    "class Coba:\n",
    "    \n",
    "    def __init__(self, nama, angka, kata):\n",
    "        self.nama = nama\n",
    "        self.angka = angka\n",
    "        self.kata = kata\n",
    "        \n",
    "    def cetak(self):\n",
    "        return self.cetak\n",
    "    \n",
    "    def __str__(self):\n",
    "        return self.nama\n",
    "    \n",
    "    def __len__(self):\n",
    "        return 100"
   ]
  },
  {
   "cell_type": "code",
   "execution_count": 78,
   "id": "76b20dfd",
   "metadata": {},
   "outputs": [],
   "source": [
    "coba = Coba('andi',12,'sehat')"
   ]
  },
  {
   "cell_type": "code",
   "execution_count": 79,
   "id": "0c018b60",
   "metadata": {},
   "outputs": [
    {
     "data": {
      "text/plain": [
       "<bound method Coba.cetak of <__main__.Coba object at 0x000001EC0E20CBE0>>"
      ]
     },
     "execution_count": 79,
     "metadata": {},
     "output_type": "execute_result"
    }
   ],
   "source": [
    "coba.cetak()"
   ]
  },
  {
   "cell_type": "code",
   "execution_count": 70,
   "id": "4fc698b5",
   "metadata": {},
   "outputs": [
    {
     "name": "stdout",
     "output_type": "stream",
     "text": [
      "['__class__', '__delattr__', '__dict__', '__dir__', '__doc__', '__eq__', '__format__', '__ge__', '__getattribute__', '__gt__', '__hash__', '__init__', '__init_subclass__', '__le__', '__lt__', '__module__', '__ne__', '__new__', '__reduce__', '__reduce_ex__', '__repr__', '__setattr__', '__sizeof__', '__str__', '__subclasshook__', '__weakref__', 'angka', 'cetak', 'kata', 'nama']\n"
     ]
    }
   ],
   "source": [
    "print(dir(coba))"
   ]
  },
  {
   "cell_type": "code",
   "execution_count": 71,
   "id": "f7d57c11",
   "metadata": {},
   "outputs": [
    {
     "data": {
      "text/plain": [
       "'andi'"
      ]
     },
     "execution_count": 71,
     "metadata": {},
     "output_type": "execute_result"
    }
   ],
   "source": [
    "coba.__str__()"
   ]
  },
  {
   "cell_type": "code",
   "execution_count": 72,
   "id": "b0344cd9",
   "metadata": {},
   "outputs": [
    {
     "data": {
      "text/plain": [
       "'andi'"
      ]
     },
     "execution_count": 72,
     "metadata": {},
     "output_type": "execute_result"
    }
   ],
   "source": [
    "str(coba)"
   ]
  },
  {
   "cell_type": "code",
   "execution_count": 80,
   "id": "6f43a02a",
   "metadata": {},
   "outputs": [
    {
     "data": {
      "text/plain": [
       "100"
      ]
     },
     "execution_count": 80,
     "metadata": {},
     "output_type": "execute_result"
    }
   ],
   "source": [
    "coba.__len__()"
   ]
  },
  {
   "cell_type": "code",
   "execution_count": 81,
   "id": "992cb11b",
   "metadata": {},
   "outputs": [
    {
     "data": {
      "text/plain": [
       "100"
      ]
     },
     "execution_count": 81,
     "metadata": {},
     "output_type": "execute_result"
    }
   ],
   "source": [
    "coba.__len__()"
   ]
  },
  {
   "cell_type": "code",
   "execution_count": 82,
   "id": "1f56ed6a",
   "metadata": {},
   "outputs": [
    {
     "data": {
      "text/plain": [
       "100"
      ]
     },
     "execution_count": 82,
     "metadata": {},
     "output_type": "execute_result"
    }
   ],
   "source": [
    "len(coba)"
   ]
  },
  {
   "cell_type": "raw",
   "id": "305367e5",
   "metadata": {},
   "source": [
    "Buatlah sebuah calss dengan anam RekeningBank.\n",
    "Kemudian class ini memiliki beberapa methode seperti mencetak saldo, menabung, dan menarik uang.\n",
    "Jika rekeningnya kurang, maka akan menunjukkan keterangan bahwa saldo tidak mencukupi "
   ]
  },
  {
   "cell_type": "code",
   "execution_count": 90,
   "id": "eab97cfe",
   "metadata": {},
   "outputs": [],
   "source": [
    "class RekeningBank:\n",
    "    \n",
    "    def __init__(self, tabungan):\n",
    "        self.tabungan = tabungan\n",
    "        \n",
    "    def cek_saldo(self):\n",
    "        print('Jumlah saldo anda adalah = Rp {}'.format(self.tabungan))\n",
    "        \n",
    "    def menabung(self):\n",
    "        tambah = int(input('Masukkan jumlah yang ingin ditabung = '))\n",
    "        self.tabungan += tambah #atau self.tabungan + tambah\n",
    "        \n",
    "    def menarik(self):\n",
    "        kurang = int(input('Masukkan jumlah yang ingin diambil = '))\n",
    "        if self.tabungan < kurang :\n",
    "            print('Maaf saldo anda tidak mencukupi \\nsaldo anda saat ini {} '.format(self.tabungan))\n",
    "        else:\n",
    "            self.tabungan -= kurang #self.tabungan = self.tabungan - kurang"
   ]
  },
  {
   "cell_type": "code",
   "execution_count": 85,
   "id": "e99a1a5c",
   "metadata": {},
   "outputs": [],
   "source": [
    "tabunganku = RekeningBank(100000)"
   ]
  },
  {
   "cell_type": "code",
   "execution_count": 86,
   "id": "2f2e7ef0",
   "metadata": {},
   "outputs": [
    {
     "name": "stdout",
     "output_type": "stream",
     "text": [
      "Jumlah saldo anda adalah = Rp 100000\n"
     ]
    }
   ],
   "source": [
    "tabunganku.cek_saldo()"
   ]
  },
  {
   "cell_type": "code",
   "execution_count": 87,
   "id": "bec89a21",
   "metadata": {},
   "outputs": [
    {
     "name": "stdout",
     "output_type": "stream",
     "text": [
      "Masukkan jumlah yang ingin ditabung = 700000\n"
     ]
    }
   ],
   "source": [
    "tabunganku.menabung()"
   ]
  },
  {
   "cell_type": "code",
   "execution_count": 88,
   "id": "999e254a",
   "metadata": {},
   "outputs": [
    {
     "name": "stdout",
     "output_type": "stream",
     "text": [
      "Jumlah saldo anda adalah = Rp 800000\n"
     ]
    }
   ],
   "source": [
    "tabunganku.cek_saldo()"
   ]
  },
  {
   "cell_type": "code",
   "execution_count": 91,
   "id": "181b23c8",
   "metadata": {},
   "outputs": [
    {
     "name": "stdout",
     "output_type": "stream",
     "text": [
      "Masukkan jumlah yang ingin diambil = 900000\n",
      "Maaf saldo anda tidak mencukupi \n",
      " saldo anda saat ini 800000 \n"
     ]
    }
   ],
   "source": [
    "tabunganku.menarik()"
   ]
  },
  {
   "cell_type": "code",
   "execution_count": 95,
   "id": "30fafbe4",
   "metadata": {},
   "outputs": [
    {
     "name": "stdout",
     "output_type": "stream",
     "text": [
      "Masukkan jumlah yang ingin diambil = 700000\n"
     ]
    }
   ],
   "source": [
    "tabunganku.menarik()"
   ]
  },
  {
   "cell_type": "code",
   "execution_count": 96,
   "id": "dee08533",
   "metadata": {},
   "outputs": [
    {
     "name": "stdout",
     "output_type": "stream",
     "text": [
      "Jumlah saldo anda adalah = Rp 100000\n"
     ]
    }
   ],
   "source": [
    "tabunganku.cek_saldo()"
   ]
  },
  {
   "cell_type": "code",
   "execution_count": null,
   "id": "6dc4b852",
   "metadata": {},
   "outputs": [],
   "source": []
  }
 ],
 "metadata": {
  "kernelspec": {
   "display_name": "Python 3 (ipykernel)",
   "language": "python",
   "name": "python3"
  },
  "language_info": {
   "codemirror_mode": {
    "name": "ipython",
    "version": 3
   },
   "file_extension": ".py",
   "mimetype": "text/x-python",
   "name": "python",
   "nbconvert_exporter": "python",
   "pygments_lexer": "ipython3",
   "version": "3.8.12"
  }
 },
 "nbformat": 4,
 "nbformat_minor": 5
}
