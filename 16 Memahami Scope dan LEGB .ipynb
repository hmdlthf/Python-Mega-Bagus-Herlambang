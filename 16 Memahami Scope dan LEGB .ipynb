{
 "cells": [
  {
   "cell_type": "code",
   "execution_count": 1,
   "id": "8204db20",
   "metadata": {},
   "outputs": [],
   "source": [
    "a = 1000"
   ]
  },
  {
   "cell_type": "code",
   "execution_count": 2,
   "id": "3a1b9777",
   "metadata": {},
   "outputs": [],
   "source": [
    "def jumlah():\n",
    "    a = 79\n",
    "    return a"
   ]
  },
  {
   "cell_type": "code",
   "execution_count": 4,
   "id": "a3c9dd2f",
   "metadata": {},
   "outputs": [
    {
     "name": "stdout",
     "output_type": "stream",
     "text": [
      "1000\n"
     ]
    }
   ],
   "source": [
    "print(a)"
   ]
  },
  {
   "cell_type": "markdown",
   "id": "a38eb9c1",
   "metadata": {},
   "source": [
    "## Urutan Eksekusi Python\n",
    "\n"
   ]
  },
  {
   "cell_type": "raw",
   "id": "10e2d813",
   "metadata": {},
   "source": [
    "L (Local) = variabel ini bersifat local, yang biasanya berada didalam fungsi(def/lambda)tertentu .\n",
    "E (Enclosing Function local) = variabel ini berada didalam fungsi (def/lambda) mulai dari lingkup di terdalam hingga keluar\n",
    "G (Global) = variabel ini didefinisikan diluar, biasanya di tahap awal \n",
    "B (Built-in) variabel bawaan Python, seperti list str, upper, dll"
   ]
  },
  {
   "cell_type": "code",
   "execution_count": 5,
   "id": "37be558b",
   "metadata": {},
   "outputs": [
    {
     "name": "stdout",
     "output_type": "stream",
     "text": [
      "79\n"
     ]
    }
   ],
   "source": [
    "print(jumlah())"
   ]
  },
  {
   "cell_type": "code",
   "execution_count": 29,
   "id": "e747fa3a",
   "metadata": {},
   "outputs": [],
   "source": [
    "kalimat = 'saya adalah Global'\n",
    "\n",
    "def cetak():\n",
    "    #kalimat = 'saya adalah Local'\n",
    "    \n",
    "    def eksekusi():\n",
    "        print('Halo hasilnya adalah' + kalimat)\n",
    "        \n",
    "    eksekusi()"
   ]
  },
  {
   "cell_type": "code",
   "execution_count": 30,
   "id": "c0e8635e",
   "metadata": {},
   "outputs": [
    {
     "name": "stdout",
     "output_type": "stream",
     "text": [
      "Halo hasilnya adalahsaya adalah Global\n"
     ]
    }
   ],
   "source": [
    "cetak()"
   ]
  },
  {
   "cell_type": "code",
   "execution_count": 31,
   "id": "0cc01c68",
   "metadata": {},
   "outputs": [],
   "source": [
    "angka = 99 \n",
    "\n",
    "def tulis(angka):\n",
    "    print(f'angka = {angka}')"
   ]
  },
  {
   "cell_type": "code",
   "execution_count": 33,
   "id": "13c7e4de",
   "metadata": {},
   "outputs": [
    {
     "name": "stdout",
     "output_type": "stream",
     "text": [
      "angka = 99\n"
     ]
    }
   ],
   "source": [
    "tulis(angka)"
   ]
  },
  {
   "cell_type": "code",
   "execution_count": 2,
   "id": "20243d14",
   "metadata": {},
   "outputs": [],
   "source": [
    "angka = 99 \n",
    "\n",
    "def tulis():\n",
    "    global angka\n",
    "    \n",
    "    angka = 'ganti lo'\n",
    "    print(f'angkanya sekarang saya rubah menjadi {angka}')"
   ]
  },
  {
   "cell_type": "code",
   "execution_count": 3,
   "id": "619ab662",
   "metadata": {},
   "outputs": [
    {
     "name": "stdout",
     "output_type": "stream",
     "text": [
      "angkanya sekarang saya rubah menjadi ganti lo\n"
     ]
    }
   ],
   "source": [
    "tulis()"
   ]
  },
  {
   "cell_type": "code",
   "execution_count": 4,
   "id": "27aef72d",
   "metadata": {},
   "outputs": [
    {
     "name": "stdout",
     "output_type": "stream",
     "text": [
      "ganti lo\n"
     ]
    }
   ],
   "source": [
    "print(angka)"
   ]
  },
  {
   "cell_type": "code",
   "execution_count": null,
   "id": "8038f908",
   "metadata": {},
   "outputs": [],
   "source": []
  }
 ],
 "metadata": {
  "kernelspec": {
   "display_name": "Python 3 (ipykernel)",
   "language": "python",
   "name": "python3"
  },
  "language_info": {
   "codemirror_mode": {
    "name": "ipython",
    "version": 3
   },
   "file_extension": ".py",
   "mimetype": "text/x-python",
   "name": "python",
   "nbconvert_exporter": "python",
   "pygments_lexer": "ipython3",
   "version": "3.8.12"
  }
 },
 "nbformat": 4,
 "nbformat_minor": 5
}
