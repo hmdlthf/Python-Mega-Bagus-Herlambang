{
 "cells": [
  {
   "cell_type": "markdown",
   "id": "354ca3c6",
   "metadata": {},
   "source": [
    "class NamaClass: \n",
    "    def  __init__ (self, nama_attribute1, nama_attribute2):\n",
    "           self.nama_attribute1 = nama_attribute1\n",
    "           self.nama_attribute2 = nama_attribute2\n",
    "           \n",
    "    def nama_methode(self)\n",
    "        return"
   ]
  },
  {
   "cell_type": "code",
   "execution_count": 26,
   "id": "b9866397",
   "metadata": {},
   "outputs": [],
   "source": [
    "class Kulkas:\n",
    "    \n",
    "    def __init__(self, merek, harga):\n",
    "        self.merek = merek\n",
    "        self.harga = harga\n",
    "        self.garansi = 3\n",
    "        self.tenaga = 'listrik'\n",
    "        "
   ]
  },
  {
   "cell_type": "code",
   "execution_count": 19,
   "id": "e89b4e03",
   "metadata": {},
   "outputs": [],
   "source": [
    "barang1 = Kulkas('samsung', 500)"
   ]
  },
  {
   "cell_type": "code",
   "execution_count": 14,
   "id": "56470796",
   "metadata": {},
   "outputs": [
    {
     "data": {
      "text/plain": [
       "'samsung'"
      ]
     },
     "execution_count": 14,
     "metadata": {},
     "output_type": "execute_result"
    }
   ],
   "source": [
    "barang1.merek"
   ]
  },
  {
   "cell_type": "code",
   "execution_count": 15,
   "id": "ffda1161",
   "metadata": {},
   "outputs": [
    {
     "data": {
      "text/plain": [
       "500"
      ]
     },
     "execution_count": 15,
     "metadata": {},
     "output_type": "execute_result"
    }
   ],
   "source": [
    "barang1.harga"
   ]
  },
  {
   "cell_type": "code",
   "execution_count": 23,
   "id": "5b4fa0c7",
   "metadata": {},
   "outputs": [],
   "source": [
    "barang2 = Kulkas('Toshiba', 700)"
   ]
  },
  {
   "cell_type": "code",
   "execution_count": 24,
   "id": "36cfea8e",
   "metadata": {},
   "outputs": [
    {
     "data": {
      "text/plain": [
       "700"
      ]
     },
     "execution_count": 24,
     "metadata": {},
     "output_type": "execute_result"
    }
   ],
   "source": [
    "barang2.harga"
   ]
  },
  {
   "cell_type": "code",
   "execution_count": 25,
   "id": "376e7775",
   "metadata": {},
   "outputs": [
    {
     "data": {
      "text/plain": [
       "'Toshiba'"
      ]
     },
     "execution_count": 25,
     "metadata": {},
     "output_type": "execute_result"
    }
   ],
   "source": [
    "barang2.merek"
   ]
  },
  {
   "cell_type": "code",
   "execution_count": 27,
   "id": "19e60c67",
   "metadata": {},
   "outputs": [],
   "source": [
    "barang3 = Kulkas('LG', 900)"
   ]
  },
  {
   "cell_type": "code",
   "execution_count": 28,
   "id": "160e16c5",
   "metadata": {},
   "outputs": [
    {
     "data": {
      "text/plain": [
       "3"
      ]
     },
     "execution_count": 28,
     "metadata": {},
     "output_type": "execute_result"
    }
   ],
   "source": [
    "barang3.garansi"
   ]
  },
  {
   "cell_type": "code",
   "execution_count": 29,
   "id": "f4bafedc",
   "metadata": {},
   "outputs": [
    {
     "data": {
      "text/plain": [
       "'listrik'"
      ]
     },
     "execution_count": 29,
     "metadata": {},
     "output_type": "execute_result"
    }
   ],
   "source": [
    "barang3.tenaga"
   ]
  },
  {
   "cell_type": "code",
   "execution_count": 30,
   "id": "1a4d7c28",
   "metadata": {},
   "outputs": [
    {
     "data": {
      "text/plain": [
       "'LG'"
      ]
     },
     "execution_count": 30,
     "metadata": {},
     "output_type": "execute_result"
    }
   ],
   "source": [
    "barang3.merek"
   ]
  },
  {
   "cell_type": "code",
   "execution_count": 31,
   "id": "abbc4ab6",
   "metadata": {},
   "outputs": [
    {
     "data": {
      "text/plain": [
       "900"
      ]
     },
     "execution_count": 31,
     "metadata": {},
     "output_type": "execute_result"
    }
   ],
   "source": [
    "barang3.harga"
   ]
  },
  {
   "cell_type": "code",
   "execution_count": null,
   "id": "0483aa58",
   "metadata": {},
   "outputs": [],
   "source": []
  }
 ],
 "metadata": {
  "kernelspec": {
   "display_name": "Python 3 (ipykernel)",
   "language": "python",
   "name": "python3"
  },
  "language_info": {
   "codemirror_mode": {
    "name": "ipython",
    "version": 3
   },
   "file_extension": ".py",
   "mimetype": "text/x-python",
   "name": "python",
   "nbconvert_exporter": "python",
   "pygments_lexer": "ipython3",
   "version": "3.8.12"
  }
 },
 "nbformat": 4,
 "nbformat_minor": 5
}
